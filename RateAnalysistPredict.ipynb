{
  "cells": [
    {
      "cell_type": "code",
      "execution_count": null,
      "metadata": {
        "id": "lge-kER2BXUT"
      },
      "outputs": [],
      "source": [
        "import numpy as np\n",
        "import pandas as pd\n",
        "import matplotlib.pyplot as plt\n",
        "import seaborn as sns\n",
        "import statistics as st\n",
        "\n",
        "from sklearn.model_selection import cross_val_score, GridSearchCV, train_test_split\n",
        "from sklearn.compose import ColumnTransformer\n",
        "from sklearn.preprocessing import MinMaxScaler, OneHotEncoder, RobustScaler\n",
        "from sklearn.pipeline import Pipeline\n",
        "\n",
        "from sklearn.linear_model import LogisticRegression\n",
        "from sklearn.ensemble import VotingClassifier, AdaBoostClassifier, RandomForestClassifier\n",
        "from sklearn.tree import DecisionTreeClassifier\n",
        "from sklearn.neighbors import KNeighborsClassifier\n",
        "from sklearn.feature_selection import f_classif\n",
        "\n",
        "from statsmodels.stats.outliers_influence import variance_inflation_factor\n",
        "\n",
        "from scipy.stats import chi2_contingency\n",
        "import openpyxl\n",
        "import category_encoders as ce\n",
        "\n",
        "from imblearn.over_sampling import  SMOTE\n",
        "from imblearn.under_sampling import  NearMiss\n",
        "\n",
        "from sklearn.metrics import classification_report, roc_auc_score, recall_score"
      ]
    },
    {
      "cell_type": "code",
      "execution_count": null,
      "metadata": {
        "id": "R5cD2NfmBXUc",
        "outputId": "dc5f19bd-2130-482d-a022-0fe60f994bf6"
      },
      "outputs": [
        {
          "data": {
            "text/html": [
              "<div>\n",
              "<style scoped>\n",
              "    .dataframe tbody tr th:only-of-type {\n",
              "        vertical-align: middle;\n",
              "    }\n",
              "\n",
              "    .dataframe tbody tr th {\n",
              "        vertical-align: top;\n",
              "    }\n",
              "\n",
              "    .dataframe thead th {\n",
              "        text-align: right;\n",
              "    }\n",
              "</style>\n",
              "<table border=\"1\" class=\"dataframe\">\n",
              "  <thead>\n",
              "    <tr style=\"text-align: right;\">\n",
              "      <th></th>\n",
              "      <th>id_karyawan</th>\n",
              "      <th>departemen</th>\n",
              "      <th>wilayah</th>\n",
              "      <th>pendidikan</th>\n",
              "      <th>jenis_kelamin</th>\n",
              "      <th>rekrutmen</th>\n",
              "      <th>jumlah_training</th>\n",
              "      <th>umur</th>\n",
              "      <th>rating_tahun_lalu</th>\n",
              "      <th>masa_kerja</th>\n",
              "      <th>KPI_&gt;80%</th>\n",
              "      <th>penghargaan</th>\n",
              "      <th>rata_rata_skor_training</th>\n",
              "      <th>dipromosikan</th>\n",
              "    </tr>\n",
              "  </thead>\n",
              "  <tbody>\n",
              "    <tr>\n",
              "      <th>0</th>\n",
              "      <td>80589</td>\n",
              "      <td>Sales &amp; Marketing</td>\n",
              "      <td>wilayah_7</td>\n",
              "      <td>Master's &amp; above</td>\n",
              "      <td>f</td>\n",
              "      <td>sourcing</td>\n",
              "      <td>1</td>\n",
              "      <td>35</td>\n",
              "      <td>5.0</td>\n",
              "      <td>8</td>\n",
              "      <td>1</td>\n",
              "      <td>0</td>\n",
              "      <td>49</td>\n",
              "      <td>0</td>\n",
              "    </tr>\n",
              "    <tr>\n",
              "      <th>1</th>\n",
              "      <td>80292</td>\n",
              "      <td>Operations</td>\n",
              "      <td>wilayah_22</td>\n",
              "      <td>Bachelor's</td>\n",
              "      <td>m</td>\n",
              "      <td>other</td>\n",
              "      <td>1</td>\n",
              "      <td>30</td>\n",
              "      <td>5.0</td>\n",
              "      <td>4</td>\n",
              "      <td>0</td>\n",
              "      <td>0</td>\n",
              "      <td>60</td>\n",
              "      <td>0</td>\n",
              "    </tr>\n",
              "    <tr>\n",
              "      <th>2</th>\n",
              "      <td>22664</td>\n",
              "      <td>Sales &amp; Marketing</td>\n",
              "      <td>wilayah_19</td>\n",
              "      <td>Bachelor's</td>\n",
              "      <td>m</td>\n",
              "      <td>sourcing</td>\n",
              "      <td>1</td>\n",
              "      <td>34</td>\n",
              "      <td>3.0</td>\n",
              "      <td>7</td>\n",
              "      <td>0</td>\n",
              "      <td>0</td>\n",
              "      <td>50</td>\n",
              "      <td>0</td>\n",
              "    </tr>\n",
              "    <tr>\n",
              "      <th>3</th>\n",
              "      <td>17693</td>\n",
              "      <td>Sales &amp; Marketing</td>\n",
              "      <td>wilayah_23</td>\n",
              "      <td>Bachelor's</td>\n",
              "      <td>m</td>\n",
              "      <td>other</td>\n",
              "      <td>2</td>\n",
              "      <td>39</td>\n",
              "      <td>1.0</td>\n",
              "      <td>10</td>\n",
              "      <td>0</td>\n",
              "      <td>0</td>\n",
              "      <td>50</td>\n",
              "      <td>0</td>\n",
              "    </tr>\n",
              "    <tr>\n",
              "      <th>4</th>\n",
              "      <td>64096</td>\n",
              "      <td>Technology</td>\n",
              "      <td>wilayah_26</td>\n",
              "      <td>Bachelor's</td>\n",
              "      <td>m</td>\n",
              "      <td>other</td>\n",
              "      <td>1</td>\n",
              "      <td>45</td>\n",
              "      <td>3.0</td>\n",
              "      <td>2</td>\n",
              "      <td>0</td>\n",
              "      <td>0</td>\n",
              "      <td>73</td>\n",
              "      <td>0</td>\n",
              "    </tr>\n",
              "  </tbody>\n",
              "</table>\n",
              "</div>"
            ],
            "text/plain": [
              "   id_karyawan         departemen     wilayah        pendidikan jenis_kelamin  \\\n",
              "0        80589  Sales & Marketing   wilayah_7  Master's & above             f   \n",
              "1        80292         Operations  wilayah_22        Bachelor's             m   \n",
              "2        22664  Sales & Marketing  wilayah_19        Bachelor's             m   \n",
              "3        17693  Sales & Marketing  wilayah_23        Bachelor's             m   \n",
              "4        64096         Technology  wilayah_26        Bachelor's             m   \n",
              "\n",
              "  rekrutmen  jumlah_training  umur  rating_tahun_lalu  masa_kerja  KPI_>80%  \\\n",
              "0  sourcing                1    35                5.0           8         1   \n",
              "1     other                1    30                5.0           4         0   \n",
              "2  sourcing                1    34                3.0           7         0   \n",
              "3     other                2    39                1.0          10         0   \n",
              "4     other                1    45                3.0           2         0   \n",
              "\n",
              "   penghargaan  rata_rata_skor_training  dipromosikan  \n",
              "0            0                       49             0  \n",
              "1            0                       60             0  \n",
              "2            0                       50             0  \n",
              "3            0                       50             0  \n",
              "4            0                       73             0  "
            ]
          },
          "execution_count": 43,
          "metadata": {},
          "output_type": "execute_result"
        }
      ],
      "source": [
        "df = pd.read_excel('data.xlsx')\n",
        "df.head()"
      ]
    },
    {
      "cell_type": "code",
      "execution_count": null,
      "metadata": {
        "id": "E8rVCRZLBXUj",
        "outputId": "cfb34912-14d6-42e9-bef1-fd046802d111"
      },
      "outputs": [
        {
          "name": "stdout",
          "output_type": "stream",
          "text": [
            "<class 'pandas.core.frame.DataFrame'>\n",
            "RangeIndex: 54808 entries, 0 to 54807\n",
            "Data columns (total 14 columns):\n",
            " #   Column                   Non-Null Count  Dtype  \n",
            "---  ------                   --------------  -----  \n",
            " 0   id_karyawan              54808 non-null  int64  \n",
            " 1   departemen               54808 non-null  object \n",
            " 2   wilayah                  54808 non-null  object \n",
            " 3   pendidikan               52399 non-null  object \n",
            " 4   jenis_kelamin            54808 non-null  object \n",
            " 5   rekrutmen                54808 non-null  object \n",
            " 6   jumlah_training          54808 non-null  int64  \n",
            " 7   umur                     54808 non-null  int64  \n",
            " 8   rating_tahun_lalu        50684 non-null  float64\n",
            " 9   masa_kerja               54808 non-null  int64  \n",
            " 10  KPI_>80%                 54808 non-null  int64  \n",
            " 11  penghargaan              54808 non-null  int64  \n",
            " 12  rata_rata_skor_training  54808 non-null  int64  \n",
            " 13  dipromosikan             54808 non-null  int64  \n",
            "dtypes: float64(1), int64(8), object(5)\n",
            "memory usage: 5.9+ MB\n"
          ]
        }
      ],
      "source": [
        "df.info()"
      ]
    },
    {
      "cell_type": "code",
      "execution_count": null,
      "metadata": {
        "id": "TZaKmFMcBXUm",
        "outputId": "62f2bfdd-3220-4cb6-85f6-a91f096b9b69"
      },
      "outputs": [
        {
          "data": {
            "text/html": [
              "<div>\n",
              "<style scoped>\n",
              "    .dataframe tbody tr th:only-of-type {\n",
              "        vertical-align: middle;\n",
              "    }\n",
              "\n",
              "    .dataframe tbody tr th {\n",
              "        vertical-align: top;\n",
              "    }\n",
              "\n",
              "    .dataframe thead th {\n",
              "        text-align: right;\n",
              "    }\n",
              "</style>\n",
              "<table border=\"1\" class=\"dataframe\">\n",
              "  <thead>\n",
              "    <tr style=\"text-align: right;\">\n",
              "      <th></th>\n",
              "      <th>count</th>\n",
              "      <th>mean</th>\n",
              "      <th>std</th>\n",
              "      <th>min</th>\n",
              "      <th>25%</th>\n",
              "      <th>50%</th>\n",
              "      <th>75%</th>\n",
              "      <th>max</th>\n",
              "    </tr>\n",
              "  </thead>\n",
              "  <tbody>\n",
              "    <tr>\n",
              "      <th>id_karyawan</th>\n",
              "      <td>54808.0</td>\n",
              "      <td>54346.830627</td>\n",
              "      <td>22586.581449</td>\n",
              "      <td>15152.0</td>\n",
              "      <td>34820.75</td>\n",
              "      <td>54376.5</td>\n",
              "      <td>73881.5</td>\n",
              "      <td>93449.0</td>\n",
              "    </tr>\n",
              "    <tr>\n",
              "      <th>jumlah_training</th>\n",
              "      <td>54808.0</td>\n",
              "      <td>1.253011</td>\n",
              "      <td>0.609264</td>\n",
              "      <td>1.0</td>\n",
              "      <td>1.00</td>\n",
              "      <td>1.0</td>\n",
              "      <td>1.0</td>\n",
              "      <td>10.0</td>\n",
              "    </tr>\n",
              "    <tr>\n",
              "      <th>umur</th>\n",
              "      <td>54808.0</td>\n",
              "      <td>34.803915</td>\n",
              "      <td>7.660169</td>\n",
              "      <td>20.0</td>\n",
              "      <td>29.00</td>\n",
              "      <td>33.0</td>\n",
              "      <td>39.0</td>\n",
              "      <td>60.0</td>\n",
              "    </tr>\n",
              "    <tr>\n",
              "      <th>rating_tahun_lalu</th>\n",
              "      <td>50684.0</td>\n",
              "      <td>3.329256</td>\n",
              "      <td>1.259993</td>\n",
              "      <td>1.0</td>\n",
              "      <td>3.00</td>\n",
              "      <td>3.0</td>\n",
              "      <td>4.0</td>\n",
              "      <td>5.0</td>\n",
              "    </tr>\n",
              "    <tr>\n",
              "      <th>masa_kerja</th>\n",
              "      <td>54808.0</td>\n",
              "      <td>5.865512</td>\n",
              "      <td>4.265094</td>\n",
              "      <td>1.0</td>\n",
              "      <td>3.00</td>\n",
              "      <td>5.0</td>\n",
              "      <td>7.0</td>\n",
              "      <td>37.0</td>\n",
              "    </tr>\n",
              "    <tr>\n",
              "      <th>KPI_&gt;80%</th>\n",
              "      <td>54808.0</td>\n",
              "      <td>0.351974</td>\n",
              "      <td>0.477590</td>\n",
              "      <td>0.0</td>\n",
              "      <td>0.00</td>\n",
              "      <td>0.0</td>\n",
              "      <td>1.0</td>\n",
              "      <td>1.0</td>\n",
              "    </tr>\n",
              "    <tr>\n",
              "      <th>penghargaan</th>\n",
              "      <td>54808.0</td>\n",
              "      <td>0.023172</td>\n",
              "      <td>0.150450</td>\n",
              "      <td>0.0</td>\n",
              "      <td>0.00</td>\n",
              "      <td>0.0</td>\n",
              "      <td>0.0</td>\n",
              "      <td>1.0</td>\n",
              "    </tr>\n",
              "    <tr>\n",
              "      <th>rata_rata_skor_training</th>\n",
              "      <td>54808.0</td>\n",
              "      <td>63.386750</td>\n",
              "      <td>13.371559</td>\n",
              "      <td>39.0</td>\n",
              "      <td>51.00</td>\n",
              "      <td>60.0</td>\n",
              "      <td>76.0</td>\n",
              "      <td>99.0</td>\n",
              "    </tr>\n",
              "    <tr>\n",
              "      <th>dipromosikan</th>\n",
              "      <td>54808.0</td>\n",
              "      <td>0.085170</td>\n",
              "      <td>0.279137</td>\n",
              "      <td>0.0</td>\n",
              "      <td>0.00</td>\n",
              "      <td>0.0</td>\n",
              "      <td>0.0</td>\n",
              "      <td>1.0</td>\n",
              "    </tr>\n",
              "  </tbody>\n",
              "</table>\n",
              "</div>"
            ],
            "text/plain": [
              "                           count          mean           std      min  \\\n",
              "id_karyawan              54808.0  54346.830627  22586.581449  15152.0   \n",
              "jumlah_training          54808.0      1.253011      0.609264      1.0   \n",
              "umur                     54808.0     34.803915      7.660169     20.0   \n",
              "rating_tahun_lalu        50684.0      3.329256      1.259993      1.0   \n",
              "masa_kerja               54808.0      5.865512      4.265094      1.0   \n",
              "KPI_>80%                 54808.0      0.351974      0.477590      0.0   \n",
              "penghargaan              54808.0      0.023172      0.150450      0.0   \n",
              "rata_rata_skor_training  54808.0     63.386750     13.371559     39.0   \n",
              "dipromosikan             54808.0      0.085170      0.279137      0.0   \n",
              "\n",
              "                              25%      50%      75%      max  \n",
              "id_karyawan              34820.75  54376.5  73881.5  93449.0  \n",
              "jumlah_training              1.00      1.0      1.0     10.0  \n",
              "umur                        29.00     33.0     39.0     60.0  \n",
              "rating_tahun_lalu            3.00      3.0      4.0      5.0  \n",
              "masa_kerja                   3.00      5.0      7.0     37.0  \n",
              "KPI_>80%                     0.00      0.0      1.0      1.0  \n",
              "penghargaan                  0.00      0.0      0.0      1.0  \n",
              "rata_rata_skor_training     51.00     60.0     76.0     99.0  \n",
              "dipromosikan                 0.00      0.0      0.0      1.0  "
            ]
          },
          "execution_count": 49,
          "metadata": {},
          "output_type": "execute_result"
        }
      ],
      "source": [
        "df.describe().transpose()"
      ]
    },
    {
      "cell_type": "code",
      "execution_count": null,
      "metadata": {
        "id": "O7LiWmBgBXUn",
        "outputId": "b6ae8a68-a975-43f5-b22f-9568da93e3c2"
      },
      "outputs": [
        {
          "data": {
            "text/html": [
              "<div>\n",
              "<style scoped>\n",
              "    .dataframe tbody tr th:only-of-type {\n",
              "        vertical-align: middle;\n",
              "    }\n",
              "\n",
              "    .dataframe tbody tr th {\n",
              "        vertical-align: top;\n",
              "    }\n",
              "\n",
              "    .dataframe thead th {\n",
              "        text-align: right;\n",
              "    }\n",
              "</style>\n",
              "<table border=\"1\" class=\"dataframe\">\n",
              "  <thead>\n",
              "    <tr style=\"text-align: right;\">\n",
              "      <th></th>\n",
              "      <th>count</th>\n",
              "      <th>unique</th>\n",
              "      <th>top</th>\n",
              "      <th>freq</th>\n",
              "    </tr>\n",
              "  </thead>\n",
              "  <tbody>\n",
              "    <tr>\n",
              "      <th>departemen</th>\n",
              "      <td>54808</td>\n",
              "      <td>9</td>\n",
              "      <td>Sales &amp; Marketing</td>\n",
              "      <td>16840</td>\n",
              "    </tr>\n",
              "    <tr>\n",
              "      <th>wilayah</th>\n",
              "      <td>54808</td>\n",
              "      <td>34</td>\n",
              "      <td>wilayah_2</td>\n",
              "      <td>12343</td>\n",
              "    </tr>\n",
              "    <tr>\n",
              "      <th>pendidikan</th>\n",
              "      <td>52399</td>\n",
              "      <td>3</td>\n",
              "      <td>Bachelor's</td>\n",
              "      <td>36669</td>\n",
              "    </tr>\n",
              "    <tr>\n",
              "      <th>jenis_kelamin</th>\n",
              "      <td>54808</td>\n",
              "      <td>2</td>\n",
              "      <td>m</td>\n",
              "      <td>38496</td>\n",
              "    </tr>\n",
              "    <tr>\n",
              "      <th>rekrutmen</th>\n",
              "      <td>54808</td>\n",
              "      <td>3</td>\n",
              "      <td>other</td>\n",
              "      <td>30446</td>\n",
              "    </tr>\n",
              "  </tbody>\n",
              "</table>\n",
              "</div>"
            ],
            "text/plain": [
              "               count unique                top   freq\n",
              "departemen     54808      9  Sales & Marketing  16840\n",
              "wilayah        54808     34          wilayah_2  12343\n",
              "pendidikan     52399      3         Bachelor's  36669\n",
              "jenis_kelamin  54808      2                  m  38496\n",
              "rekrutmen      54808      3              other  30446"
            ]
          },
          "execution_count": 48,
          "metadata": {},
          "output_type": "execute_result"
        }
      ],
      "source": [
        "df.describe(include=object).transpose()"
      ]
    },
    {
      "cell_type": "code",
      "execution_count": null,
      "metadata": {
        "id": "ggQaXpW6BXUp",
        "outputId": "3e4cf715-8fdd-4287-c9fb-a2964226a6d2"
      },
      "outputs": [
        {
          "data": {
            "text/plain": [
              "id_karyawan                0.000000\n",
              "departemen                 0.000000\n",
              "wilayah                    0.000000\n",
              "pendidikan                 0.054942\n",
              "jenis_kelamin              0.000000\n",
              "rekrutmen                  0.000000\n",
              "jumlah_training            0.000000\n",
              "umur                       0.000000\n",
              "rating_tahun_lalu          0.094056\n",
              "masa_kerja                 0.000000\n",
              "KPI_>80%                   0.000000\n",
              "penghargaan                0.000000\n",
              "rata_rata_skor_training    0.000000\n",
              "dipromosikan               0.000000\n",
              "dtype: float64"
            ]
          },
          "execution_count": 39,
          "metadata": {},
          "output_type": "execute_result"
        }
      ],
      "source": [
        "df.isnull().sum()/len(dev)"
      ]
    },
    {
      "cell_type": "code",
      "execution_count": null,
      "metadata": {
        "id": "PhmNLXovBXUq",
        "outputId": "faf433f2-3039-4f67-ff04-6cffd507332d"
      },
      "outputs": [
        {
          "data": {
            "text/plain": [
              "True"
            ]
          },
          "execution_count": 65,
          "metadata": {},
          "output_type": "execute_result"
        }
      ],
      "source": [
        "((df['rating_tahun_lalu'].isnull()) & (df['masa_kerja'] == 1)).sum() == df['rating_tahun_lalu'].isnull().sum()"
      ]
    },
    {
      "cell_type": "code",
      "execution_count": null,
      "metadata": {
        "id": "ME8xaCSUBXUs"
      },
      "outputs": [],
      "source": [
        "def analyze(column):\n",
        "  data = {}\n",
        "  data['Column'] = column.name\n",
        "  data['Mean'] = st.mean(column)\n",
        "  data['Mode'] = Counter(column).most_common()[0][0]\n",
        "  data['Median'] = st.median(column)\n",
        "  data['Variance'] = st.variance(column)\n",
        "  data['Standard Deviation'] = st.stdev(column)\n",
        "  data['Skew'] = column.skew()\n",
        "  return pd.DataFrame([data])\n",
        "\n",
        "def dataframe_analysis():\n",
        "  result = pd.DataFrame()\n",
        "\n",
        "  for col in df_num.columns:\n",
        "    analysis = analyze(df[col])\n",
        "    result = result.append(analysis)\n",
        "\n",
        "  return result.reset_index(drop=True)\n",
        "\n",
        "def plot_distribution(column):\n",
        "  f, (ax_box, ax_hist) = plt.subplots(nrows=2,\n",
        "                                      sharex=True,\n",
        "                                      figsize=(8, 5),\n",
        "                                      gridspec_kw={\"height_ratios\": {0.2, 1}})\n",
        "\n",
        "  info = analyze(column)\n",
        "  mean = info['Mean'].values[0]\n",
        "  median = info['Median'].values[0]\n",
        "  mode = info['Mode'].values[0]\n",
        "\n",
        "  sns.boxplot(x=column, ax=ax_box)\n",
        "  ax_box.axvline(mean, color='r', linestyle='--')\n",
        "  ax_box.axvline(median, color='g', linestyle=':')\n",
        "  ax_box.axvline(mode, color='b', linestyle='-')\n",
        "  ax_box.set(xlabel='')\n",
        "\n",
        "  sns.histplot(x=column, ax=ax_hist, kde=True)\n",
        "  ax_hist.axvline(mean, color='r', linestyle='--')\n",
        "  ax_hist.axvline(median, color='g', linestyle=':')\n",
        "  ax_hist.axvline(mode, color='b', linestyle='-')\n",
        "\n",
        "  plt.legend({'Mean':mean, 'Median':median, 'Mode':mode})\n",
        "  plt.show()"
      ]
    },
    {
      "cell_type": "code",
      "execution_count": null,
      "metadata": {
        "id": "poatv1sTBXUy",
        "outputId": "a946a911-42d6-4a37-bc41-33cb20362f77"
      },
      "outputs": [
        {
          "data": {
            "text/html": [
              "<div>\n",
              "<style scoped>\n",
              "    .dataframe tbody tr th:only-of-type {\n",
              "        vertical-align: middle;\n",
              "    }\n",
              "\n",
              "    .dataframe tbody tr th {\n",
              "        vertical-align: top;\n",
              "    }\n",
              "\n",
              "    .dataframe thead th {\n",
              "        text-align: right;\n",
              "    }\n",
              "</style>\n",
              "<table border=\"1\" class=\"dataframe\">\n",
              "  <thead>\n",
              "    <tr style=\"text-align: right;\">\n",
              "      <th></th>\n",
              "      <th>Column</th>\n",
              "      <th>Mean</th>\n",
              "      <th>Mode</th>\n",
              "      <th>Median</th>\n",
              "      <th>Variance</th>\n",
              "      <th>Standard Deviation</th>\n",
              "      <th>Skew</th>\n",
              "    </tr>\n",
              "  </thead>\n",
              "  <tbody>\n",
              "    <tr>\n",
              "      <th>0</th>\n",
              "      <td>jumlah_training</td>\n",
              "      <td>1.253011</td>\n",
              "      <td>1.0</td>\n",
              "      <td>1.0</td>\n",
              "      <td>0.371203</td>\n",
              "      <td>0.609264</td>\n",
              "      <td>3.445434</td>\n",
              "    </tr>\n",
              "    <tr>\n",
              "      <th>1</th>\n",
              "      <td>umur</td>\n",
              "      <td>34.803915</td>\n",
              "      <td>30.0</td>\n",
              "      <td>33.0</td>\n",
              "      <td>58.678192</td>\n",
              "      <td>7.660169</td>\n",
              "      <td>1.007432</td>\n",
              "    </tr>\n",
              "    <tr>\n",
              "      <th>2</th>\n",
              "      <td>rating_tahun_lalu</td>\n",
              "      <td>NaN</td>\n",
              "      <td>3.0</td>\n",
              "      <td>3.0</td>\n",
              "      <td>NaN</td>\n",
              "      <td>NaN</td>\n",
              "      <td>-0.310638</td>\n",
              "    </tr>\n",
              "    <tr>\n",
              "      <th>3</th>\n",
              "      <td>masa_kerja</td>\n",
              "      <td>5.865512</td>\n",
              "      <td>3.0</td>\n",
              "      <td>5.0</td>\n",
              "      <td>18.191028</td>\n",
              "      <td>4.265094</td>\n",
              "      <td>1.738061</td>\n",
              "    </tr>\n",
              "    <tr>\n",
              "      <th>4</th>\n",
              "      <td>KPI_&gt;80%</td>\n",
              "      <td>0.351974</td>\n",
              "      <td>0.0</td>\n",
              "      <td>0.0</td>\n",
              "      <td>0.228093</td>\n",
              "      <td>0.477590</td>\n",
              "      <td>0.619909</td>\n",
              "    </tr>\n",
              "    <tr>\n",
              "      <th>5</th>\n",
              "      <td>penghargaan</td>\n",
              "      <td>0.023172</td>\n",
              "      <td>0.0</td>\n",
              "      <td>0.0</td>\n",
              "      <td>0.022635</td>\n",
              "      <td>0.150450</td>\n",
              "      <td>6.338914</td>\n",
              "    </tr>\n",
              "    <tr>\n",
              "      <th>6</th>\n",
              "      <td>rata_rata_skor_training</td>\n",
              "      <td>63.386750</td>\n",
              "      <td>50.0</td>\n",
              "      <td>60.0</td>\n",
              "      <td>178.798603</td>\n",
              "      <td>13.371559</td>\n",
              "      <td>0.451908</td>\n",
              "    </tr>\n",
              "    <tr>\n",
              "      <th>7</th>\n",
              "      <td>dipromosikan</td>\n",
              "      <td>0.085170</td>\n",
              "      <td>0.0</td>\n",
              "      <td>0.0</td>\n",
              "      <td>0.077918</td>\n",
              "      <td>0.279137</td>\n",
              "      <td>2.972339</td>\n",
              "    </tr>\n",
              "  </tbody>\n",
              "</table>\n",
              "</div>"
            ],
            "text/plain": [
              "                    Column       Mean  Mode  Median    Variance  \\\n",
              "0          jumlah_training   1.253011   1.0     1.0    0.371203   \n",
              "1                     umur  34.803915  30.0    33.0   58.678192   \n",
              "2        rating_tahun_lalu        NaN   3.0     3.0         NaN   \n",
              "3               masa_kerja   5.865512   3.0     5.0   18.191028   \n",
              "4                 KPI_>80%   0.351974   0.0     0.0    0.228093   \n",
              "5              penghargaan   0.023172   0.0     0.0    0.022635   \n",
              "6  rata_rata_skor_training  63.386750  50.0    60.0  178.798603   \n",
              "7             dipromosikan   0.085170   0.0     0.0    0.077918   \n",
              "\n",
              "   Standard Deviation      Skew  \n",
              "0            0.609264  3.445434  \n",
              "1            7.660169  1.007432  \n",
              "2                 NaN -0.310638  \n",
              "3            4.265094  1.738061  \n",
              "4            0.477590  0.619909  \n",
              "5            0.150450  6.338914  \n",
              "6           13.371559  0.451908  \n",
              "7            0.279137  2.972339  "
            ]
          },
          "execution_count": 46,
          "metadata": {},
          "output_type": "execute_result"
        }
      ],
      "source": [
        "dataframe_analysis()"
      ]
    },
    {
      "cell_type": "code",
      "execution_count": null,
      "metadata": {
        "id": "J_xcsO3WBXU0",
        "outputId": "a43bc74e-7fe0-4891-b286-b72177a12132"
      },
      "outputs": [
        {
          "name": "stdout",
          "output_type": "stream",
          "text": [
            "Plot Disctribution Column :  jumlah_training\n"
          ]
        },
        {
          "data": {
            "image/png": "[encoded data removed]",
            "text/plain": [
              "<Figure size 576x360 with 2 Axes>"
            ]
          },
          "metadata": {
            "needs_background": "light"
          },
          "output_type": "display_data"
        },
        {
          "name": "stdout",
          "output_type": "stream",
          "text": [
            "=======================\n",
            "Plot Disctribution Column :  umur\n"
          ]
        },
        {
          "data": {
            "image/png": "[encoded data removed]",
            "text/plain": [
              "<Figure size 576x360 with 2 Axes>"
            ]
          },
          "metadata": {
            "needs_background": "light"
          },
          "output_type": "display_data"
        },
        {
          "name": "stdout",
          "output_type": "stream",
          "text": [
            "=======================\n",
            "Plot Disctribution Column :  rating_tahun_lalu\n"
          ]
        },
        {
          "data": {
            "image/png": "[encoded data removed]",
            "text/plain": [
              "<Figure size 576x360 with 2 Axes>"
            ]
          },
          "metadata": {
            "needs_background": "light"
          },
          "output_type": "display_data"
        },
        {
          "name": "stdout",
          "output_type": "stream",
          "text": [
            "=======================\n",
            "Plot Disctribution Column :  masa_kerja\n"
          ]
        },
        {
          "data": {
            "image/png": "[encoded data removed]",
            "text/plain": [
              "<Figure size 576x360 with 2 Axes>"
            ]
          },
          "metadata": {
            "needs_background": "light"
          },
          "output_type": "display_data"
        },
        {
          "name": "stdout",
          "output_type": "stream",
          "text": [
            "=======================\n",
            "Plot Disctribution Column :  KPI_>80%\n"
          ]
        },
        {
          "data": {
            "image/png": "[encoded data removed]",
            "text/plain": [
              "<Figure size 576x360 with 2 Axes>"
            ]
          },
          "metadata": {
            "needs_background": "light"
          },
          "output_type": "display_data"
        },
        {
          "name": "stdout",
          "output_type": "stream",
          "text": [
            "=======================\n",
            "Plot Disctribution Column :  penghargaan\n"
          ]
        },
        {
          "data": {
            "image/png": "[encoded data removed]",
            "text/plain": [
              "<Figure size 576x360 with 2 Axes>"
            ]
          },
          "metadata": {
            "needs_background": "light"
          },
          "output_type": "display_data"
        },
        {
          "name": "stdout",
          "output_type": "stream",
          "text": [
            "=======================\n",
            "Plot Disctribution Column :  rata_rata_skor_training\n"
          ]
        },
        {
          "data": {
            "image/png": "[encoded data removed]",
            "text/plain": [
              "<Figure size 576x360 with 2 Axes>"
            ]
          },
          "metadata": {
            "needs_background": "light"
          },
          "output_type": "display_data"
        },
        {
          "name": "stdout",
          "output_type": "stream",
          "text": [
            "=======================\n",
            "Plot Disctribution Column :  dipromosikan\n"
          ]
        },
        {
          "data": {
            "image/png": "[encoded data removed]",
            "text/plain": [
              "<Figure size 576x360 with 2 Axes>"
            ]
          },
          "metadata": {
            "needs_background": "light"
          },
          "output_type": "display_data"
        },
        {
          "name": "stdout",
          "output_type": "stream",
          "text": [
            "=======================\n"
          ]
        }
      ],
      "source": [
        "for col in df_num.columns:\n",
        "    print(\"Plot Disctribution Column : \", col)\n",
        "    plot_distribution(df_num[col])\n",
        "    print(\"=======================\")"
      ]
    },
    {
      "cell_type": "markdown",
      "metadata": {
        "id": "fk97sEYWBXU6"
      },
      "source": [
        "#Data Preprocessing"
      ]
    },
    {
      "cell_type": "code",
      "execution_count": null,
      "metadata": {
        "id": "wyJ3CurvBXU7"
      },
      "outputs": [],
      "source": [
        "df.drop(columns=['id_karyawan', 'wilayah'], axis = 1, inplace=True)"
      ]
    },
    {
      "cell_type": "code",
      "execution_count": null,
      "metadata": {
        "id": "7W334XCkBXU8",
        "outputId": "91a644ef-49f4-4171-df38-9d085353ed61"
      },
      "outputs": [
        {
          "data": {
            "text/html": [
              "<div>\n",
              "<style scoped>\n",
              "    .dataframe tbody tr th:only-of-type {\n",
              "        vertical-align: middle;\n",
              "    }\n",
              "\n",
              "    .dataframe tbody tr th {\n",
              "        vertical-align: top;\n",
              "    }\n",
              "\n",
              "    .dataframe thead th {\n",
              "        text-align: right;\n",
              "    }\n",
              "</style>\n",
              "<table border=\"1\" class=\"dataframe\">\n",
              "  <thead>\n",
              "    <tr style=\"text-align: right;\">\n",
              "      <th></th>\n",
              "      <th>departemen</th>\n",
              "      <th>pendidikan</th>\n",
              "      <th>jenis_kelamin</th>\n",
              "      <th>rekrutmen</th>\n",
              "      <th>jumlah_training</th>\n",
              "      <th>umur</th>\n",
              "      <th>rating_tahun_lalu</th>\n",
              "      <th>masa_kerja</th>\n",
              "      <th>KPI_&gt;80%</th>\n",
              "      <th>penghargaan</th>\n",
              "      <th>rata_rata_skor_training</th>\n",
              "      <th>dipromosikan</th>\n",
              "    </tr>\n",
              "  </thead>\n",
              "  <tbody>\n",
              "    <tr>\n",
              "      <th>0</th>\n",
              "      <td>Sales &amp; Marketing</td>\n",
              "      <td>Master's &amp; above</td>\n",
              "      <td>f</td>\n",
              "      <td>sourcing</td>\n",
              "      <td>1</td>\n",
              "      <td>35</td>\n",
              "      <td>5.0</td>\n",
              "      <td>8</td>\n",
              "      <td>1</td>\n",
              "      <td>0</td>\n",
              "      <td>49</td>\n",
              "      <td>0</td>\n",
              "    </tr>\n",
              "    <tr>\n",
              "      <th>1</th>\n",
              "      <td>Operations</td>\n",
              "      <td>Bachelor's</td>\n",
              "      <td>m</td>\n",
              "      <td>other</td>\n",
              "      <td>1</td>\n",
              "      <td>30</td>\n",
              "      <td>5.0</td>\n",
              "      <td>4</td>\n",
              "      <td>0</td>\n",
              "      <td>0</td>\n",
              "      <td>60</td>\n",
              "      <td>0</td>\n",
              "    </tr>\n",
              "    <tr>\n",
              "      <th>2</th>\n",
              "      <td>Sales &amp; Marketing</td>\n",
              "      <td>Bachelor's</td>\n",
              "      <td>m</td>\n",
              "      <td>sourcing</td>\n",
              "      <td>1</td>\n",
              "      <td>34</td>\n",
              "      <td>3.0</td>\n",
              "      <td>7</td>\n",
              "      <td>0</td>\n",
              "      <td>0</td>\n",
              "      <td>50</td>\n",
              "      <td>0</td>\n",
              "    </tr>\n",
              "    <tr>\n",
              "      <th>3</th>\n",
              "      <td>Sales &amp; Marketing</td>\n",
              "      <td>Bachelor's</td>\n",
              "      <td>m</td>\n",
              "      <td>other</td>\n",
              "      <td>2</td>\n",
              "      <td>39</td>\n",
              "      <td>1.0</td>\n",
              "      <td>10</td>\n",
              "      <td>0</td>\n",
              "      <td>0</td>\n",
              "      <td>50</td>\n",
              "      <td>0</td>\n",
              "    </tr>\n",
              "    <tr>\n",
              "      <th>4</th>\n",
              "      <td>Technology</td>\n",
              "      <td>Bachelor's</td>\n",
              "      <td>m</td>\n",
              "      <td>other</td>\n",
              "      <td>1</td>\n",
              "      <td>45</td>\n",
              "      <td>3.0</td>\n",
              "      <td>2</td>\n",
              "      <td>0</td>\n",
              "      <td>0</td>\n",
              "      <td>73</td>\n",
              "      <td>0</td>\n",
              "    </tr>\n",
              "  </tbody>\n",
              "</table>\n",
              "</div>"
            ],
            "text/plain": [
              "          departemen        pendidikan jenis_kelamin rekrutmen  \\\n",
              "0  Sales & Marketing  Master's & above             f  sourcing   \n",
              "1         Operations        Bachelor's             m     other   \n",
              "2  Sales & Marketing        Bachelor's             m  sourcing   \n",
              "3  Sales & Marketing        Bachelor's             m     other   \n",
              "4         Technology        Bachelor's             m     other   \n",
              "\n",
              "   jumlah_training  umur  rating_tahun_lalu  masa_kerja  KPI_>80%  \\\n",
              "0                1    35                5.0           8         1   \n",
              "1                1    30                5.0           4         0   \n",
              "2                1    34                3.0           7         0   \n",
              "3                2    39                1.0          10         0   \n",
              "4                1    45                3.0           2         0   \n",
              "\n",
              "   penghargaan  rata_rata_skor_training  dipromosikan  \n",
              "0            0                       49             0  \n",
              "1            0                       60             0  \n",
              "2            0                       50             0  \n",
              "3            0                       50             0  \n",
              "4            0                       73             0  "
            ]
          },
          "execution_count": 13,
          "metadata": {},
          "output_type": "execute_result"
        }
      ],
      "source": [
        "df.head()"
      ]
    },
    {
      "cell_type": "code",
      "execution_count": null,
      "metadata": {
        "id": "dqNJ81BYBXU_"
      },
      "outputs": [],
      "source": [
        "df['pendidikan'].fillna(df['pendidikan'].mode().iloc[0],inplace = True)"
      ]
    },
    {
      "cell_type": "code",
      "execution_count": null,
      "metadata": {
        "id": "FhG5ZTjTBXVB"
      },
      "outputs": [],
      "source": [
        "df['rating_tahun_lalu'].fillna(df['rating_tahun_lalu'].mean(),inplace = True)"
      ]
    },
    {
      "cell_type": "code",
      "execution_count": null,
      "metadata": {
        "id": "MC6QWK38BXVC",
        "outputId": "400781c1-4d24-4cab-f39e-32cd7284c553"
      },
      "outputs": [
        {
          "data": {
            "text/plain": [
              "departemen                 0\n",
              "pendidikan                 0\n",
              "jenis_kelamin              0\n",
              "rekrutmen                  0\n",
              "jumlah_training            0\n",
              "umur                       0\n",
              "rating_tahun_lalu          0\n",
              "masa_kerja                 0\n",
              "KPI_>80%                   0\n",
              "penghargaan                0\n",
              "rata_rata_skor_training    0\n",
              "dipromosikan               0\n",
              "dtype: int64"
            ]
          },
          "execution_count": 84,
          "metadata": {},
          "output_type": "execute_result"
        }
      ],
      "source": [
        "df.isnull().sum()"
      ]
    },
    {
      "cell_type": "markdown",
      "source": [
        "# Data Split\n",
        "\n",
        "We've learned from EDA that our independent variable exhibits imbalanced traits. When applying balancing methods, it's vital to consider the sampling technique and .fit/.transform process. The sampling method deserves attention. For example, random data separation into training, validation, and test sets may alter class distribution. In one case, a 70% positive and 30% negative class distribution became 71%:29%, 68%:32%, and 72%:28% in the sets. This sampling method risks being non-representative and introducing bias.\n",
        "\n",
        "In a 60-20-20 Data Split, only training and validation data are manipulated."
      ],
      "metadata": {
        "id": "izVEOQu6CXh1"
      }
    },
    {
      "cell_type": "code",
      "execution_count": null,
      "metadata": {
        "id": "3-rfPAPJBXVG"
      },
      "outputs": [],
      "source": [
        "X = df.drop(columns=['dipromosikan'], axis = 1)\n",
        "y = df['dipromosikan']"
      ]
    },
    {
      "cell_type": "code",
      "execution_count": null,
      "metadata": {
        "id": "D88I-tu_BXVH"
      },
      "outputs": [],
      "source": [
        "X_train_val, X_test, y_train_val, y_test = train_test_split(\n",
        "    X,\n",
        "    y,\n",
        "    stratify = y,\n",
        "    test_size = 0.2,\n",
        "    random_state = 2021)"
      ]
    },
    {
      "cell_type": "markdown",
      "metadata": {
        "id": "l7lfksLdBXVI"
      },
      "source": [
        "### 3. Feature Selection\n",
        "\n",
        "Feature selection is utilized to perform the selection of features used in modeling. We choose features that are essential or impactful on the target variable. Feature selection can also be viewed as a method of generalization. When there are too many features involved in the modeling process, the model tends to overfit, and if there are too few features, the model becomes underfit.\n",
        "\n",
        "Using fewer features in modeling can lead to a simpler interpretation of the model. Essentially, we aim for a simple model while still maintaining good performance. For instance, if we have 7 variables, X1 to X7, it turns out that by using only X1, X4, and X6, we can achieve a well-performing machine learning model.\n",
        "\n",
        "Moving forward, we will conduct feature selection to identify the most suitable features for our binary classification problem. We will employ the Chi-square test for categorical features and ANOVA F-statistics for numerical features."
      ]
    },
    {
      "cell_type": "code",
      "execution_count": null,
      "metadata": {
        "id": "cSUuD3V0BXVJ"
      },
      "outputs": [],
      "source": [
        "X_train_cat = X_train_val.select_dtypes(include = 'object').copy()\n",
        "X_train_num = X_train_val.select_dtypes(include = 'number').copy()"
      ]
    },
    {
      "cell_type": "code",
      "execution_count": null,
      "metadata": {
        "id": "_DkazaxdBXVK",
        "outputId": "81c8e90e-9832-4ee4-e61e-beaa9c04d4b6"
      },
      "outputs": [
        {
          "data": {
            "text/plain": [
              "Index(['departemen', 'pendidikan', 'jenis_kelamin', 'rekrutmen'], dtype='object')"
            ]
          },
          "execution_count": 108,
          "metadata": {},
          "output_type": "execute_result"
        }
      ],
      "source": [
        "X_train_cat.columns"
      ]
    },
    {
      "cell_type": "code",
      "execution_count": null,
      "metadata": {
        "id": "XCLt16oyBXVL",
        "outputId": "17f5e09c-8968-4c7b-9e71-899513d9fd21"
      },
      "outputs": [
        {
          "data": {
            "text/plain": [
              "Index(['jumlah_training', 'umur', 'rating_tahun_lalu', 'masa_kerja',\n",
              "       'KPI_>80%', 'penghargaan', 'rata_rata_skor_training'],\n",
              "      dtype='object')"
            ]
          },
          "execution_count": 106,
          "metadata": {},
          "output_type": "execute_result"
        }
      ],
      "source": [
        "X_train_num.columns"
      ]
    },
    {
      "cell_type": "markdown",
      "metadata": {
        "id": "TuEBeGSnBXVN"
      },
      "source": [
        "### 3.1 Chi-square\n",
        "\n",
        "Are the two categorical variables independent or related to each other? For instance, we will test one categorical feature in our data, namely ```pendidikan``` . Does a person's education have a dependency with whether they are promoted or not?\n",
        "\n",
        "We can formulate the hypotheses as follows:\n",
        "\n",
        "1. Ho: Both variables are independent, meaning the ```pendidikan```   variable is not related or independent of the variable.\n",
        "2. Ha: Both variables are dependent, meaning the ```pendidikan``` variable is related or dependent on the variable.\n",
        "Ho is rejected when the P-Value is less than or equal to alpha (α). We will use an alpha value of 0.05.\n"
      ]
    },
    {
      "cell_type": "code",
      "execution_count": null,
      "metadata": {
        "id": "pchSmJB1BXVO"
      },
      "outputs": [],
      "source": [
        "chi2_check = {}\n",
        "\n",
        "for column in X_train_cat:\n",
        "    chi, p, dof, ex = chi2_contingency(pd.crosstab(y_train_val, X_train_cat[column]))\n",
        "    chi2_check.setdefault('Feature',[]).append(column)\n",
        "    chi2_check.setdefault('p-value',[]).append(round(p, 10))"
      ]
    },
    {
      "cell_type": "code",
      "execution_count": null,
      "metadata": {
        "id": "5xMfdCvsBXVQ",
        "outputId": "7c302edd-e7f5-4369-9d20-c9cc74d73b44"
      },
      "outputs": [
        {
          "data": {
            "text/html": [
              "<div>\n",
              "<style scoped>\n",
              "    .dataframe tbody tr th:only-of-type {\n",
              "        vertical-align: middle;\n",
              "    }\n",
              "\n",
              "    .dataframe tbody tr th {\n",
              "        vertical-align: top;\n",
              "    }\n",
              "\n",
              "    .dataframe thead th {\n",
              "        text-align: right;\n",
              "    }\n",
              "</style>\n",
              "<table border=\"1\" class=\"dataframe\">\n",
              "  <thead>\n",
              "    <tr style=\"text-align: right;\">\n",
              "      <th></th>\n",
              "      <th>Feature</th>\n",
              "      <th>p-value</th>\n",
              "    </tr>\n",
              "  </thead>\n",
              "  <tbody>\n",
              "    <tr>\n",
              "      <th>0</th>\n",
              "      <td>departemen</td>\n",
              "      <td>0.000000e+00</td>\n",
              "    </tr>\n",
              "    <tr>\n",
              "      <th>1</th>\n",
              "      <td>pendidikan</td>\n",
              "      <td>3.700000e-09</td>\n",
              "    </tr>\n",
              "    <tr>\n",
              "      <th>2</th>\n",
              "      <td>rekrutmen</td>\n",
              "      <td>2.519587e-02</td>\n",
              "    </tr>\n",
              "    <tr>\n",
              "      <th>3</th>\n",
              "      <td>jenis_kelamin</td>\n",
              "      <td>5.363700e-01</td>\n",
              "    </tr>\n",
              "  </tbody>\n",
              "</table>\n",
              "</div>"
            ],
            "text/plain": [
              "         Feature       p-value\n",
              "0     departemen  0.000000e+00\n",
              "1     pendidikan  3.700000e-09\n",
              "2      rekrutmen  2.519587e-02\n",
              "3  jenis_kelamin  5.363700e-01"
            ]
          },
          "execution_count": 94,
          "metadata": {},
          "output_type": "execute_result"
        }
      ],
      "source": [
        "# convert dari dictionary ke DF\n",
        "chi2_result = pd.DataFrame(data = chi2_check)\n",
        "chi2_result.sort_values(by = ['p-value'], ascending = True, ignore_index = True, inplace = True)\n",
        "chi2_result"
      ]
    },
    {
      "cell_type": "markdown",
      "metadata": {
        "id": "bGF2Lke-BXVT"
      },
      "source": [
        "### 3.2 F-Statistic\n",
        "\n",
        "The F-test (F-Statistic) is employed to examine whether independent variables significantly influence the dependent variable. The F-test assumes that errors follow a normal distribution. If the errors do not exhibit normal distribution, the test results will be invalid. The Null Hypothesis of this test states that the independent variables do not have a significant effect on the dependent variable, while the alternative hypothesis suggests that the independent variables do have a significant effect on the dependent variable. The test statistic used in this test is the F statistic, and the rejection criteria for the Null Hypothesis is a p-value < alpha. The variables used in this F-test are numeric features.\n"
      ]
    },
    {
      "cell_type": "code",
      "execution_count": null,
      "metadata": {
        "id": "hn_1giKWBXVU"
      },
      "outputs": [],
      "source": [
        "F_statistic, p_values = f_classif(X_train_num, y_train_val)"
      ]
    },
    {
      "cell_type": "code",
      "execution_count": null,
      "metadata": {
        "id": "JZsk2ZuSBXVV"
      },
      "outputs": [],
      "source": [
        "ANOVA_F_table = pd.DataFrame(data = {'Numerical_Feature': X_train_num.columns.values,\n",
        "\t\t\t\t\t'F-Score': F_statistic, 'p values': p_values.round(decimals=3)})\n",
        "ANOVA_F_table.sort_values(by = ['F-Score'], ascending = False, ignore_index = True, inplace = True)"
      ]
    },
    {
      "cell_type": "code",
      "execution_count": null,
      "metadata": {
        "id": "Z5qAOBZpBXVX",
        "outputId": "62be625b-cda9-4d7b-b463-f5acf45ff4dd"
      },
      "outputs": [
        {
          "data": {
            "text/html": [
              "<div>\n",
              "<style scoped>\n",
              "    .dataframe tbody tr th:only-of-type {\n",
              "        vertical-align: middle;\n",
              "    }\n",
              "\n",
              "    .dataframe tbody tr th {\n",
              "        vertical-align: top;\n",
              "    }\n",
              "\n",
              "    .dataframe thead th {\n",
              "        text-align: right;\n",
              "    }\n",
              "</style>\n",
              "<table border=\"1\" class=\"dataframe\">\n",
              "  <thead>\n",
              "    <tr style=\"text-align: right;\">\n",
              "      <th></th>\n",
              "      <th>Numerical_Feature</th>\n",
              "      <th>F-Score</th>\n",
              "      <th>p values</th>\n",
              "    </tr>\n",
              "  </thead>\n",
              "  <tbody>\n",
              "    <tr>\n",
              "      <th>0</th>\n",
              "      <td>KPI_&gt;80%</td>\n",
              "      <td>2246.968365</td>\n",
              "      <td>0.000</td>\n",
              "    </tr>\n",
              "    <tr>\n",
              "      <th>1</th>\n",
              "      <td>penghargaan</td>\n",
              "      <td>1714.529784</td>\n",
              "      <td>0.000</td>\n",
              "    </tr>\n",
              "    <tr>\n",
              "      <th>2</th>\n",
              "      <td>rata_rata_skor_training</td>\n",
              "      <td>1458.047826</td>\n",
              "      <td>0.000</td>\n",
              "    </tr>\n",
              "    <tr>\n",
              "      <th>3</th>\n",
              "      <td>rating_tahun_lalu</td>\n",
              "      <td>1034.002906</td>\n",
              "      <td>0.000</td>\n",
              "    </tr>\n",
              "    <tr>\n",
              "      <th>4</th>\n",
              "      <td>jumlah_training</td>\n",
              "      <td>28.793171</td>\n",
              "      <td>0.000</td>\n",
              "    </tr>\n",
              "    <tr>\n",
              "      <th>5</th>\n",
              "      <td>umur</td>\n",
              "      <td>10.897776</td>\n",
              "      <td>0.001</td>\n",
              "    </tr>\n",
              "    <tr>\n",
              "      <th>6</th>\n",
              "      <td>masa_kerja</td>\n",
              "      <td>7.531728</td>\n",
              "      <td>0.006</td>\n",
              "    </tr>\n",
              "  </tbody>\n",
              "</table>\n",
              "</div>"
            ],
            "text/plain": [
              "         Numerical_Feature      F-Score  p values\n",
              "0                 KPI_>80%  2246.968365     0.000\n",
              "1              penghargaan  1714.529784     0.000\n",
              "2  rata_rata_skor_training  1458.047826     0.000\n",
              "3        rating_tahun_lalu  1034.002906     0.000\n",
              "4          jumlah_training    28.793171     0.000\n",
              "5                     umur    10.897776     0.001\n",
              "6               masa_kerja     7.531728     0.006"
            ]
          },
          "execution_count": 120,
          "metadata": {},
          "output_type": "execute_result"
        }
      ],
      "source": [
        "ANOVA_F_table"
      ]
    },
    {
      "cell_type": "markdown",
      "metadata": {
        "id": "5lJKNjHGBXVY"
      },
      "source": [
        "Statistik F ANOVA untuk 6 fitur numerik menunjukkan rentang nilai F yang luas. Kita akan  simpan semua fitur ini untuk tetap digunakan dalam permodelan karena mempunyai ```p-value``` < 0.05"
      ]
    },
    {
      "cell_type": "code",
      "execution_count": null,
      "metadata": {
        "id": "16D_CTgmBXVc",
        "outputId": "3506afa2-0080-4f7e-b698-26767f763dfb"
      },
      "outputs": [
        {
          "data": {
            "text/plain": [
              "<AxesSubplot:>"
            ]
          },
          "execution_count": 122,
          "metadata": {},
          "output_type": "execute_result"
        },
        {
          "data": {
            "image/png": "[encoded data removed]",
            "text/plain": [
              "<Figure size 720x720 with 2 Axes>"
            ]
          },
          "metadata": {
            "needs_background": "light"
          },
          "output_type": "display_data"
        }
      ],
      "source": [
        "corrmat = X_train_num.corr()\n",
        "plt.figure(figsize=(10,10))\n",
        "sns.heatmap(corrmat)"
      ]
    },
    {
      "cell_type": "code",
      "execution_count": null,
      "metadata": {
        "id": "rmH8ce46BXV_"
      },
      "outputs": [],
      "source": [
        "def calc_vif(X):\n",
        "\n",
        "    # Calculating VIF\n",
        "    vif = pd.DataFrame()\n",
        "    vif[\"variables\"] = X.columns\n",
        "    vif[\"VIF\"] = [variance_inflation_factor(X.values, i) for i in range(X.shape[1])]\n",
        "\n",
        "    return(vif)"
      ]
    },
    {
      "cell_type": "code",
      "execution_count": null,
      "metadata": {
        "id": "SC8mtLASBXWA",
        "outputId": "d874dcbd-18ca-43e8-e162-84addbac5d28"
      },
      "outputs": [
        {
          "data": {
            "text/html": [
              "<div>\n",
              "<style scoped>\n",
              "    .dataframe tbody tr th:only-of-type {\n",
              "        vertical-align: middle;\n",
              "    }\n",
              "\n",
              "    .dataframe tbody tr th {\n",
              "        vertical-align: top;\n",
              "    }\n",
              "\n",
              "    .dataframe thead th {\n",
              "        text-align: right;\n",
              "    }\n",
              "</style>\n",
              "<table border=\"1\" class=\"dataframe\">\n",
              "  <thead>\n",
              "    <tr style=\"text-align: right;\">\n",
              "      <th></th>\n",
              "      <th>variables</th>\n",
              "      <th>VIF</th>\n",
              "    </tr>\n",
              "  </thead>\n",
              "  <tbody>\n",
              "    <tr>\n",
              "      <th>5</th>\n",
              "      <td>penghargaan</td>\n",
              "      <td>1.039747</td>\n",
              "    </tr>\n",
              "    <tr>\n",
              "      <th>4</th>\n",
              "      <td>KPI_&gt;80%</td>\n",
              "      <td>1.772943</td>\n",
              "    </tr>\n",
              "    <tr>\n",
              "      <th>3</th>\n",
              "      <td>masa_kerja</td>\n",
              "      <td>4.780277</td>\n",
              "    </tr>\n",
              "    <tr>\n",
              "      <th>0</th>\n",
              "      <td>jumlah_training</td>\n",
              "      <td>4.819357</td>\n",
              "    </tr>\n",
              "    <tr>\n",
              "      <th>2</th>\n",
              "      <td>rating_tahun_lalu</td>\n",
              "      <td>8.729711</td>\n",
              "    </tr>\n",
              "    <tr>\n",
              "      <th>6</th>\n",
              "      <td>rata_rata_skor_training</td>\n",
              "      <td>15.449912</td>\n",
              "    </tr>\n",
              "    <tr>\n",
              "      <th>1</th>\n",
              "      <td>umur</td>\n",
              "      <td>22.300026</td>\n",
              "    </tr>\n",
              "  </tbody>\n",
              "</table>\n",
              "</div>"
            ],
            "text/plain": [
              "                 variables        VIF\n",
              "5              penghargaan   1.039747\n",
              "4                 KPI_>80%   1.772943\n",
              "3               masa_kerja   4.780277\n",
              "0          jumlah_training   4.819357\n",
              "2        rating_tahun_lalu   8.729711\n",
              "6  rata_rata_skor_training  15.449912\n",
              "1                     umur  22.300026"
            ]
          },
          "execution_count": 130,
          "metadata": {},
          "output_type": "execute_result"
        }
      ],
      "source": [
        "calc_vif(X_train_num).sort_values('VIF')"
      ]
    },
    {
      "cell_type": "code",
      "execution_count": null,
      "metadata": {
        "id": "1TZADbs5BXWF"
      },
      "outputs": [],
      "source": [
        "X_test.drop(columns=['umur'], axis = 1, inplace=True)\n",
        "X_train_val.drop(columns=['umur'], axis = 1, inplace=True)"
      ]
    },
    {
      "cell_type": "code",
      "execution_count": null,
      "metadata": {
        "id": "trzeCnj3BXWH",
        "outputId": "e641790d-a6b0-4e35-8a24-a162d4056c58"
      },
      "outputs": [
        {
          "data": {
            "text/html": [
              "<div>\n",
              "<style scoped>\n",
              "    .dataframe tbody tr th:only-of-type {\n",
              "        vertical-align: middle;\n",
              "    }\n",
              "\n",
              "    .dataframe tbody tr th {\n",
              "        vertical-align: top;\n",
              "    }\n",
              "\n",
              "    .dataframe thead th {\n",
              "        text-align: right;\n",
              "    }\n",
              "</style>\n",
              "<table border=\"1\" class=\"dataframe\">\n",
              "  <thead>\n",
              "    <tr style=\"text-align: right;\">\n",
              "      <th></th>\n",
              "      <th>departemen</th>\n",
              "      <th>pendidikan</th>\n",
              "      <th>jenis_kelamin</th>\n",
              "      <th>rekrutmen</th>\n",
              "      <th>jumlah_training</th>\n",
              "      <th>umur</th>\n",
              "      <th>rating_tahun_lalu</th>\n",
              "      <th>masa_kerja</th>\n",
              "      <th>KPI_&gt;80%</th>\n",
              "      <th>penghargaan</th>\n",
              "      <th>rata_rata_skor_training</th>\n",
              "      <th>dipromosikan</th>\n",
              "    </tr>\n",
              "  </thead>\n",
              "  <tbody>\n",
              "    <tr>\n",
              "      <th>0</th>\n",
              "      <td>Sales &amp; Marketing</td>\n",
              "      <td>Master's &amp; above</td>\n",
              "      <td>f</td>\n",
              "      <td>sourcing</td>\n",
              "      <td>1</td>\n",
              "      <td>35</td>\n",
              "      <td>5.0</td>\n",
              "      <td>8</td>\n",
              "      <td>1</td>\n",
              "      <td>0</td>\n",
              "      <td>49</td>\n",
              "      <td>0</td>\n",
              "    </tr>\n",
              "    <tr>\n",
              "      <th>1</th>\n",
              "      <td>Operations</td>\n",
              "      <td>Bachelor's</td>\n",
              "      <td>m</td>\n",
              "      <td>other</td>\n",
              "      <td>1</td>\n",
              "      <td>30</td>\n",
              "      <td>5.0</td>\n",
              "      <td>4</td>\n",
              "      <td>0</td>\n",
              "      <td>0</td>\n",
              "      <td>60</td>\n",
              "      <td>0</td>\n",
              "    </tr>\n",
              "    <tr>\n",
              "      <th>2</th>\n",
              "      <td>Sales &amp; Marketing</td>\n",
              "      <td>Bachelor's</td>\n",
              "      <td>m</td>\n",
              "      <td>sourcing</td>\n",
              "      <td>1</td>\n",
              "      <td>34</td>\n",
              "      <td>3.0</td>\n",
              "      <td>7</td>\n",
              "      <td>0</td>\n",
              "      <td>0</td>\n",
              "      <td>50</td>\n",
              "      <td>0</td>\n",
              "    </tr>\n",
              "    <tr>\n",
              "      <th>3</th>\n",
              "      <td>Sales &amp; Marketing</td>\n",
              "      <td>Bachelor's</td>\n",
              "      <td>m</td>\n",
              "      <td>other</td>\n",
              "      <td>2</td>\n",
              "      <td>39</td>\n",
              "      <td>1.0</td>\n",
              "      <td>10</td>\n",
              "      <td>0</td>\n",
              "      <td>0</td>\n",
              "      <td>50</td>\n",
              "      <td>0</td>\n",
              "    </tr>\n",
              "    <tr>\n",
              "      <th>4</th>\n",
              "      <td>Technology</td>\n",
              "      <td>Bachelor's</td>\n",
              "      <td>m</td>\n",
              "      <td>other</td>\n",
              "      <td>1</td>\n",
              "      <td>45</td>\n",
              "      <td>3.0</td>\n",
              "      <td>2</td>\n",
              "      <td>0</td>\n",
              "      <td>0</td>\n",
              "      <td>73</td>\n",
              "      <td>0</td>\n",
              "    </tr>\n",
              "  </tbody>\n",
              "</table>\n",
              "</div>"
            ],
            "text/plain": [
              "          departemen        pendidikan jenis_kelamin rekrutmen  \\\n",
              "0  Sales & Marketing  Master's & above             f  sourcing   \n",
              "1         Operations        Bachelor's             m     other   \n",
              "2  Sales & Marketing        Bachelor's             m  sourcing   \n",
              "3  Sales & Marketing        Bachelor's             m     other   \n",
              "4         Technology        Bachelor's             m     other   \n",
              "\n",
              "   jumlah_training  umur  rating_tahun_lalu  masa_kerja  KPI_>80%  \\\n",
              "0                1    35                5.0           8         1   \n",
              "1                1    30                5.0           4         0   \n",
              "2                1    34                3.0           7         0   \n",
              "3                2    39                1.0          10         0   \n",
              "4                1    45                3.0           2         0   \n",
              "\n",
              "   penghargaan  rata_rata_skor_training  dipromosikan  \n",
              "0            0                       49             0  \n",
              "1            0                       60             0  \n",
              "2            0                       50             0  \n",
              "3            0                       50             0  \n",
              "4            0                       73             0  "
            ]
          },
          "execution_count": 11,
          "metadata": {},
          "output_type": "execute_result"
        }
      ],
      "source": [
        "df.head()"
      ]
    },
    {
      "cell_type": "markdown",
      "metadata": {
        "id": "3qBdgrBZBXWI"
      },
      "source": [
        "### 4. Feature Engineering"
      ]
    },
    {
      "cell_type": "code",
      "execution_count": null,
      "metadata": {
        "id": "ttiAkVGfBXWK"
      },
      "outputs": [],
      "source": [
        "enc = ['rating_tahun_lalu', 'masa_kerja', 'rata_rata_skor_training', 'jumlah_training']"
      ]
    },
    {
      "cell_type": "code",
      "execution_count": null,
      "metadata": {
        "id": "p_A5bRv5BXWL"
      },
      "outputs": [],
      "source": [
        "ordinal_mapping = [\n",
        "    {'col':'pendidikan',\n",
        "    'mapping':{'Below Secondary':1,'Bachelor\\'s':2,'Master\\'s & above':3,'Sun':4}}\n",
        "    ]\n",
        "\n",
        "ordinal_encoder = ce.OrdinalEncoder(cols = 'pendidikan',mapping = ordinal_mapping)"
      ]
    },
    {
      "cell_type": "code",
      "execution_count": null,
      "metadata": {
        "id": "-XppnpnyBXWM"
      },
      "outputs": [],
      "source": [
        "transformer = ColumnTransformer([\n",
        "                                 ('one hot encoder',OneHotEncoder(),['departemen','jenis_kelamin','rekrutmen']),\n",
        "                                 ('binary encoder',ordinal_encoder,['pendidikan']),\n",
        "                                 ('robust scaler',RobustScaler(),enc)\n",
        "                                ], remainder = 'passthrough')"
      ]
    },
    {
      "cell_type": "code",
      "execution_count": null,
      "metadata": {
        "id": "C8qC7cHuBXWN"
      },
      "outputs": [],
      "source": [
        "X_train_preprocessed = transformer.fit_transform(X_train_val)\n",
        "X_test_preprocessed = transformer.transform(X_test)"
      ]
    },
    {
      "cell_type": "code",
      "execution_count": null,
      "metadata": {
        "id": "2P3PghztBXWO",
        "outputId": "ae5b003a-d7ac-4ecb-ea6a-0a1deeb11d25"
      },
      "outputs": [
        {
          "data": {
            "text/html": [
              "<div>\n",
              "<style scoped>\n",
              "    .dataframe tbody tr th:only-of-type {\n",
              "        vertical-align: middle;\n",
              "    }\n",
              "\n",
              "    .dataframe tbody tr th {\n",
              "        vertical-align: top;\n",
              "    }\n",
              "\n",
              "    .dataframe thead th {\n",
              "        text-align: right;\n",
              "    }\n",
              "</style>\n",
              "<table border=\"1\" class=\"dataframe\">\n",
              "  <thead>\n",
              "    <tr style=\"text-align: right;\">\n",
              "      <th></th>\n",
              "      <th>0</th>\n",
              "      <th>1</th>\n",
              "      <th>2</th>\n",
              "      <th>3</th>\n",
              "      <th>4</th>\n",
              "      <th>5</th>\n",
              "      <th>6</th>\n",
              "      <th>7</th>\n",
              "      <th>8</th>\n",
              "      <th>9</th>\n",
              "      <th>...</th>\n",
              "      <th>11</th>\n",
              "      <th>12</th>\n",
              "      <th>13</th>\n",
              "      <th>14</th>\n",
              "      <th>15</th>\n",
              "      <th>16</th>\n",
              "      <th>17</th>\n",
              "      <th>18</th>\n",
              "      <th>19</th>\n",
              "      <th>20</th>\n",
              "    </tr>\n",
              "  </thead>\n",
              "  <tbody>\n",
              "    <tr>\n",
              "      <th>0</th>\n",
              "      <td>0.0</td>\n",
              "      <td>0.0</td>\n",
              "      <td>0.0</td>\n",
              "      <td>0.0</td>\n",
              "      <td>0.0</td>\n",
              "      <td>0.0</td>\n",
              "      <td>0.0</td>\n",
              "      <td>1.0</td>\n",
              "      <td>0.0</td>\n",
              "      <td>0.0</td>\n",
              "      <td>...</td>\n",
              "      <td>1.0</td>\n",
              "      <td>0.0</td>\n",
              "      <td>0.0</td>\n",
              "      <td>2.0</td>\n",
              "      <td>0.0</td>\n",
              "      <td>-0.25</td>\n",
              "      <td>-0.40</td>\n",
              "      <td>0.0</td>\n",
              "      <td>0.0</td>\n",
              "      <td>0.0</td>\n",
              "    </tr>\n",
              "    <tr>\n",
              "      <th>1</th>\n",
              "      <td>0.0</td>\n",
              "      <td>0.0</td>\n",
              "      <td>0.0</td>\n",
              "      <td>0.0</td>\n",
              "      <td>0.0</td>\n",
              "      <td>0.0</td>\n",
              "      <td>0.0</td>\n",
              "      <td>0.0</td>\n",
              "      <td>1.0</td>\n",
              "      <td>0.0</td>\n",
              "      <td>...</td>\n",
              "      <td>1.0</td>\n",
              "      <td>0.0</td>\n",
              "      <td>0.0</td>\n",
              "      <td>2.0</td>\n",
              "      <td>-1.0</td>\n",
              "      <td>0.25</td>\n",
              "      <td>0.68</td>\n",
              "      <td>0.0</td>\n",
              "      <td>0.0</td>\n",
              "      <td>0.0</td>\n",
              "    </tr>\n",
              "    <tr>\n",
              "      <th>2</th>\n",
              "      <td>1.0</td>\n",
              "      <td>0.0</td>\n",
              "      <td>0.0</td>\n",
              "      <td>0.0</td>\n",
              "      <td>0.0</td>\n",
              "      <td>0.0</td>\n",
              "      <td>0.0</td>\n",
              "      <td>0.0</td>\n",
              "      <td>0.0</td>\n",
              "      <td>0.0</td>\n",
              "      <td>...</td>\n",
              "      <td>0.0</td>\n",
              "      <td>0.0</td>\n",
              "      <td>1.0</td>\n",
              "      <td>2.0</td>\n",
              "      <td>2.0</td>\n",
              "      <td>-0.50</td>\n",
              "      <td>0.88</td>\n",
              "      <td>1.0</td>\n",
              "      <td>0.0</td>\n",
              "      <td>0.0</td>\n",
              "    </tr>\n",
              "    <tr>\n",
              "      <th>3</th>\n",
              "      <td>0.0</td>\n",
              "      <td>1.0</td>\n",
              "      <td>0.0</td>\n",
              "      <td>0.0</td>\n",
              "      <td>0.0</td>\n",
              "      <td>0.0</td>\n",
              "      <td>0.0</td>\n",
              "      <td>0.0</td>\n",
              "      <td>0.0</td>\n",
              "      <td>0.0</td>\n",
              "      <td>...</td>\n",
              "      <td>0.0</td>\n",
              "      <td>0.0</td>\n",
              "      <td>1.0</td>\n",
              "      <td>2.0</td>\n",
              "      <td>-1.0</td>\n",
              "      <td>0.00</td>\n",
              "      <td>-0.08</td>\n",
              "      <td>1.0</td>\n",
              "      <td>0.0</td>\n",
              "      <td>0.0</td>\n",
              "    </tr>\n",
              "    <tr>\n",
              "      <th>4</th>\n",
              "      <td>0.0</td>\n",
              "      <td>0.0</td>\n",
              "      <td>0.0</td>\n",
              "      <td>0.0</td>\n",
              "      <td>0.0</td>\n",
              "      <td>0.0</td>\n",
              "      <td>0.0</td>\n",
              "      <td>0.0</td>\n",
              "      <td>1.0</td>\n",
              "      <td>0.0</td>\n",
              "      <td>...</td>\n",
              "      <td>0.0</td>\n",
              "      <td>0.0</td>\n",
              "      <td>1.0</td>\n",
              "      <td>2.0</td>\n",
              "      <td>-2.0</td>\n",
              "      <td>3.25</td>\n",
              "      <td>0.80</td>\n",
              "      <td>0.0</td>\n",
              "      <td>0.0</td>\n",
              "      <td>0.0</td>\n",
              "    </tr>\n",
              "    <tr>\n",
              "      <th>...</th>\n",
              "      <td>...</td>\n",
              "      <td>...</td>\n",
              "      <td>...</td>\n",
              "      <td>...</td>\n",
              "      <td>...</td>\n",
              "      <td>...</td>\n",
              "      <td>...</td>\n",
              "      <td>...</td>\n",
              "      <td>...</td>\n",
              "      <td>...</td>\n",
              "      <td>...</td>\n",
              "      <td>...</td>\n",
              "      <td>...</td>\n",
              "      <td>...</td>\n",
              "      <td>...</td>\n",
              "      <td>...</td>\n",
              "      <td>...</td>\n",
              "      <td>...</td>\n",
              "      <td>...</td>\n",
              "      <td>...</td>\n",
              "      <td>...</td>\n",
              "    </tr>\n",
              "    <tr>\n",
              "      <th>43841</th>\n",
              "      <td>0.0</td>\n",
              "      <td>0.0</td>\n",
              "      <td>0.0</td>\n",
              "      <td>0.0</td>\n",
              "      <td>0.0</td>\n",
              "      <td>0.0</td>\n",
              "      <td>0.0</td>\n",
              "      <td>0.0</td>\n",
              "      <td>1.0</td>\n",
              "      <td>0.0</td>\n",
              "      <td>...</td>\n",
              "      <td>1.0</td>\n",
              "      <td>0.0</td>\n",
              "      <td>0.0</td>\n",
              "      <td>2.0</td>\n",
              "      <td>0.0</td>\n",
              "      <td>1.25</td>\n",
              "      <td>0.56</td>\n",
              "      <td>0.0</td>\n",
              "      <td>1.0</td>\n",
              "      <td>0.0</td>\n",
              "    </tr>\n",
              "    <tr>\n",
              "      <th>43842</th>\n",
              "      <td>0.0</td>\n",
              "      <td>0.0</td>\n",
              "      <td>0.0</td>\n",
              "      <td>0.0</td>\n",
              "      <td>0.0</td>\n",
              "      <td>0.0</td>\n",
              "      <td>0.0</td>\n",
              "      <td>0.0</td>\n",
              "      <td>1.0</td>\n",
              "      <td>0.0</td>\n",
              "      <td>...</td>\n",
              "      <td>0.0</td>\n",
              "      <td>0.0</td>\n",
              "      <td>1.0</td>\n",
              "      <td>3.0</td>\n",
              "      <td>2.0</td>\n",
              "      <td>-0.50</td>\n",
              "      <td>0.92</td>\n",
              "      <td>1.0</td>\n",
              "      <td>1.0</td>\n",
              "      <td>0.0</td>\n",
              "    </tr>\n",
              "    <tr>\n",
              "      <th>43843</th>\n",
              "      <td>0.0</td>\n",
              "      <td>0.0</td>\n",
              "      <td>0.0</td>\n",
              "      <td>0.0</td>\n",
              "      <td>0.0</td>\n",
              "      <td>0.0</td>\n",
              "      <td>0.0</td>\n",
              "      <td>1.0</td>\n",
              "      <td>0.0</td>\n",
              "      <td>1.0</td>\n",
              "      <td>...</td>\n",
              "      <td>0.0</td>\n",
              "      <td>0.0</td>\n",
              "      <td>1.0</td>\n",
              "      <td>2.0</td>\n",
              "      <td>-2.0</td>\n",
              "      <td>0.00</td>\n",
              "      <td>-0.44</td>\n",
              "      <td>0.0</td>\n",
              "      <td>1.0</td>\n",
              "      <td>0.0</td>\n",
              "    </tr>\n",
              "    <tr>\n",
              "      <th>43844</th>\n",
              "      <td>0.0</td>\n",
              "      <td>0.0</td>\n",
              "      <td>0.0</td>\n",
              "      <td>0.0</td>\n",
              "      <td>0.0</td>\n",
              "      <td>1.0</td>\n",
              "      <td>0.0</td>\n",
              "      <td>0.0</td>\n",
              "      <td>0.0</td>\n",
              "      <td>0.0</td>\n",
              "      <td>...</td>\n",
              "      <td>0.0</td>\n",
              "      <td>0.0</td>\n",
              "      <td>1.0</td>\n",
              "      <td>2.0</td>\n",
              "      <td>1.0</td>\n",
              "      <td>-0.25</td>\n",
              "      <td>0.32</td>\n",
              "      <td>0.0</td>\n",
              "      <td>0.0</td>\n",
              "      <td>0.0</td>\n",
              "    </tr>\n",
              "    <tr>\n",
              "      <th>43845</th>\n",
              "      <td>0.0</td>\n",
              "      <td>0.0</td>\n",
              "      <td>0.0</td>\n",
              "      <td>0.0</td>\n",
              "      <td>0.0</td>\n",
              "      <td>0.0</td>\n",
              "      <td>0.0</td>\n",
              "      <td>1.0</td>\n",
              "      <td>0.0</td>\n",
              "      <td>0.0</td>\n",
              "      <td>...</td>\n",
              "      <td>0.0</td>\n",
              "      <td>0.0</td>\n",
              "      <td>1.0</td>\n",
              "      <td>2.0</td>\n",
              "      <td>0.0</td>\n",
              "      <td>0.50</td>\n",
              "      <td>-0.56</td>\n",
              "      <td>1.0</td>\n",
              "      <td>1.0</td>\n",
              "      <td>1.0</td>\n",
              "    </tr>\n",
              "  </tbody>\n",
              "</table>\n",
              "<p>43846 rows × 21 columns</p>\n",
              "</div>"
            ],
            "text/plain": [
              "        0    1    2    3    4    5    6    7    8    9   ...   11   12   13  \\\n",
              "0      0.0  0.0  0.0  0.0  0.0  0.0  0.0  1.0  0.0  0.0  ...  1.0  0.0  0.0   \n",
              "1      0.0  0.0  0.0  0.0  0.0  0.0  0.0  0.0  1.0  0.0  ...  1.0  0.0  0.0   \n",
              "2      1.0  0.0  0.0  0.0  0.0  0.0  0.0  0.0  0.0  0.0  ...  0.0  0.0  1.0   \n",
              "3      0.0  1.0  0.0  0.0  0.0  0.0  0.0  0.0  0.0  0.0  ...  0.0  0.0  1.0   \n",
              "4      0.0  0.0  0.0  0.0  0.0  0.0  0.0  0.0  1.0  0.0  ...  0.0  0.0  1.0   \n",
              "...    ...  ...  ...  ...  ...  ...  ...  ...  ...  ...  ...  ...  ...  ...   \n",
              "43841  0.0  0.0  0.0  0.0  0.0  0.0  0.0  0.0  1.0  0.0  ...  1.0  0.0  0.0   \n",
              "43842  0.0  0.0  0.0  0.0  0.0  0.0  0.0  0.0  1.0  0.0  ...  0.0  0.0  1.0   \n",
              "43843  0.0  0.0  0.0  0.0  0.0  0.0  0.0  1.0  0.0  1.0  ...  0.0  0.0  1.0   \n",
              "43844  0.0  0.0  0.0  0.0  0.0  1.0  0.0  0.0  0.0  0.0  ...  0.0  0.0  1.0   \n",
              "43845  0.0  0.0  0.0  0.0  0.0  0.0  0.0  1.0  0.0  0.0  ...  0.0  0.0  1.0   \n",
              "\n",
              "        14   15    16    17   18   19   20  \n",
              "0      2.0  0.0 -0.25 -0.40  0.0  0.0  0.0  \n",
              "1      2.0 -1.0  0.25  0.68  0.0  0.0  0.0  \n",
              "2      2.0  2.0 -0.50  0.88  1.0  0.0  0.0  \n",
              "3      2.0 -1.0  0.00 -0.08  1.0  0.0  0.0  \n",
              "4      2.0 -2.0  3.25  0.80  0.0  0.0  0.0  \n",
              "...    ...  ...   ...   ...  ...  ...  ...  \n",
              "43841  2.0  0.0  1.25  0.56  0.0  1.0  0.0  \n",
              "43842  3.0  2.0 -0.50  0.92  1.0  1.0  0.0  \n",
              "43843  2.0 -2.0  0.00 -0.44  0.0  1.0  0.0  \n",
              "43844  2.0  1.0 -0.25  0.32  0.0  0.0  0.0  \n",
              "43845  2.0  0.0  0.50 -0.56  1.0  1.0  1.0  \n",
              "\n",
              "[43846 rows x 21 columns]"
            ]
          },
          "execution_count": 73,
          "metadata": {},
          "output_type": "execute_result"
        }
      ],
      "source": [
        "X_train_preprocessed = pd.DataFrame(X_train_preprocessed)\n",
        "X_test_preprocessed = pd.DataFrame(X_test_preprocessed)\n",
        "X_train_preprocessed"
      ]
    },
    {
      "cell_type": "code",
      "execution_count": null,
      "metadata": {
        "id": "ZbWrBwFOBXWP",
        "outputId": "87297e88-a52f-46cb-c0cc-40ecc26c20dd"
      },
      "outputs": [
        {
          "data": {
            "text/plain": [
              "[('one hot encoder',\n",
              "  OneHotEncoder(),\n",
              "  ['departemen', 'jenis_kelamin', 'rekrutmen']),\n",
              " ('binary encoder',\n",
              "  OrdinalEncoder(cols=['pendidikan'],\n",
              "                 mapping=[{'col': 'pendidikan',\n",
              "                           'mapping': {\"Bachelor's\": 2, 'Below Secondary': 1,\n",
              "                                       \"Master's & above\": 3, 'Sun': 4}}]),\n",
              "  ['pendidikan']),\n",
              " ('robust scaler',\n",
              "  RobustScaler(),\n",
              "  ['rating_tahun_lalu', 'masa_kerja', 'rata_rata_skor_training']),\n",
              " ('remainder', 'passthrough', [4, 7, 8])]"
            ]
          },
          "execution_count": 60,
          "metadata": {},
          "output_type": "execute_result"
        }
      ],
      "source": [
        "transformer.transformers_"
      ]
    },
    {
      "cell_type": "code",
      "execution_count": null,
      "metadata": {
        "id": "DeVFxmpABXWQ",
        "outputId": "62869653-39e7-42e7-ceeb-6c074d415a48"
      },
      "outputs": [
        {
          "name": "stderr",
          "output_type": "stream",
          "text": [
            "C:\\Users\\ALDO\\AppData\\Local\\Packages\\PythonSoftwareFoundation.Python.3.9_qbz5n2kfra8p0\\LocalCache\\local-packages\\Python39\\site-packages\\sklearn\\utils\\deprecation.py:87: FutureWarning: Function get_feature_names is deprecated; get_feature_names is deprecated in 1.0 and will be removed in 1.2. Please use get_feature_names_out instead.\n",
            "  warnings.warn(msg, category=FutureWarning)\n"
          ]
        },
        {
          "data": {
            "text/plain": [
              "array(['x0_Analytics', 'x0_Finance', 'x0_HR', 'x0_Legal', 'x0_Operations',\n",
              "       'x0_Procurement', 'x0_R&D', 'x0_Sales & Marketing',\n",
              "       'x0_Technology', 'x1_f', 'x1_m', 'x2_other', 'x2_referred',\n",
              "       'x2_sourcing'], dtype=object)"
            ]
          },
          "execution_count": 61,
          "metadata": {},
          "output_type": "execute_result"
        }
      ],
      "source": [
        "transformer.transformers_[0][1].get_feature_names()"
      ]
    },
    {
      "cell_type": "code",
      "execution_count": null,
      "metadata": {
        "id": "g9wbDNLnBXWR",
        "outputId": "4dc00cd3-2cf2-4105-f673-df44cf4eb796"
      },
      "outputs": [
        {
          "data": {
            "text/plain": [
              "['pendidikan']"
            ]
          },
          "execution_count": 62,
          "metadata": {},
          "output_type": "execute_result"
        }
      ],
      "source": [
        "transformer.transformers_[1][1].get_feature_names()"
      ]
    },
    {
      "cell_type": "code",
      "execution_count": null,
      "metadata": {
        "id": "4Sbn8HcSBXWS"
      },
      "outputs": [],
      "source": [
        "features = list(['x0_Analytics', 'x0_Finance', 'x0_HR', 'x0_Legal', 'x0_Operations', 'x0_Procurement',\n",
        " 'x0_R&D', 'x0_Sales & Marketing', 'x0_Technology', 'pendidikan_scaled', 'x1_f', 'x1_m','x2_other', 'x2_referred',\n",
        " 'x2_sourcing', 'jumlah_training_scaled','rating_tahun_lalu_scaled', 'masa_kerja', 'KPI_>80%', 'penghargaan', 'rata_rata_skor_training_scaled'])"
      ]
    },
    {
      "cell_type": "code",
      "execution_count": null,
      "metadata": {
        "id": "65jB2I5BBXWU",
        "outputId": "d6733259-2da8-470d-a50c-2aadb1ee2d23"
      },
      "outputs": [
        {
          "data": {
            "text/html": [
              "<div>\n",
              "<style scoped>\n",
              "    .dataframe tbody tr th:only-of-type {\n",
              "        vertical-align: middle;\n",
              "    }\n",
              "\n",
              "    .dataframe tbody tr th {\n",
              "        vertical-align: top;\n",
              "    }\n",
              "\n",
              "    .dataframe thead th {\n",
              "        text-align: right;\n",
              "    }\n",
              "</style>\n",
              "<table border=\"1\" class=\"dataframe\">\n",
              "  <thead>\n",
              "    <tr style=\"text-align: right;\">\n",
              "      <th></th>\n",
              "      <th>x0_Analytics</th>\n",
              "      <th>x0_Finance</th>\n",
              "      <th>x0_HR</th>\n",
              "      <th>x0_Legal</th>\n",
              "      <th>x0_Operations</th>\n",
              "      <th>x0_Procurement</th>\n",
              "      <th>x0_R&amp;D</th>\n",
              "      <th>x0_Sales &amp; Marketing</th>\n",
              "      <th>x0_Technology</th>\n",
              "      <th>pendidikan_scaled</th>\n",
              "      <th>...</th>\n",
              "      <th>x1_m</th>\n",
              "      <th>x2_other</th>\n",
              "      <th>x2_referred</th>\n",
              "      <th>x2_sourcing</th>\n",
              "      <th>jumlah_training_scaled</th>\n",
              "      <th>rating_tahun_lalu_scaled</th>\n",
              "      <th>masa_kerja</th>\n",
              "      <th>KPI_&gt;80%</th>\n",
              "      <th>penghargaan</th>\n",
              "      <th>rata_rata_skor_training_scaled</th>\n",
              "    </tr>\n",
              "  </thead>\n",
              "  <tbody>\n",
              "    <tr>\n",
              "      <th>0</th>\n",
              "      <td>0.0</td>\n",
              "      <td>0.0</td>\n",
              "      <td>0.0</td>\n",
              "      <td>0.0</td>\n",
              "      <td>0.0</td>\n",
              "      <td>0.0</td>\n",
              "      <td>0.0</td>\n",
              "      <td>1.0</td>\n",
              "      <td>0.0</td>\n",
              "      <td>0.0</td>\n",
              "      <td>...</td>\n",
              "      <td>1.0</td>\n",
              "      <td>0.0</td>\n",
              "      <td>0.0</td>\n",
              "      <td>2.0</td>\n",
              "      <td>0.0</td>\n",
              "      <td>-0.25</td>\n",
              "      <td>-0.40</td>\n",
              "      <td>0.0</td>\n",
              "      <td>0.0</td>\n",
              "      <td>0.0</td>\n",
              "    </tr>\n",
              "    <tr>\n",
              "      <th>1</th>\n",
              "      <td>0.0</td>\n",
              "      <td>0.0</td>\n",
              "      <td>0.0</td>\n",
              "      <td>0.0</td>\n",
              "      <td>0.0</td>\n",
              "      <td>0.0</td>\n",
              "      <td>0.0</td>\n",
              "      <td>0.0</td>\n",
              "      <td>1.0</td>\n",
              "      <td>0.0</td>\n",
              "      <td>...</td>\n",
              "      <td>1.0</td>\n",
              "      <td>0.0</td>\n",
              "      <td>0.0</td>\n",
              "      <td>2.0</td>\n",
              "      <td>-1.0</td>\n",
              "      <td>0.25</td>\n",
              "      <td>0.68</td>\n",
              "      <td>0.0</td>\n",
              "      <td>0.0</td>\n",
              "      <td>0.0</td>\n",
              "    </tr>\n",
              "    <tr>\n",
              "      <th>2</th>\n",
              "      <td>1.0</td>\n",
              "      <td>0.0</td>\n",
              "      <td>0.0</td>\n",
              "      <td>0.0</td>\n",
              "      <td>0.0</td>\n",
              "      <td>0.0</td>\n",
              "      <td>0.0</td>\n",
              "      <td>0.0</td>\n",
              "      <td>0.0</td>\n",
              "      <td>0.0</td>\n",
              "      <td>...</td>\n",
              "      <td>0.0</td>\n",
              "      <td>0.0</td>\n",
              "      <td>1.0</td>\n",
              "      <td>2.0</td>\n",
              "      <td>2.0</td>\n",
              "      <td>-0.50</td>\n",
              "      <td>0.88</td>\n",
              "      <td>1.0</td>\n",
              "      <td>0.0</td>\n",
              "      <td>0.0</td>\n",
              "    </tr>\n",
              "    <tr>\n",
              "      <th>3</th>\n",
              "      <td>0.0</td>\n",
              "      <td>1.0</td>\n",
              "      <td>0.0</td>\n",
              "      <td>0.0</td>\n",
              "      <td>0.0</td>\n",
              "      <td>0.0</td>\n",
              "      <td>0.0</td>\n",
              "      <td>0.0</td>\n",
              "      <td>0.0</td>\n",
              "      <td>0.0</td>\n",
              "      <td>...</td>\n",
              "      <td>0.0</td>\n",
              "      <td>0.0</td>\n",
              "      <td>1.0</td>\n",
              "      <td>2.0</td>\n",
              "      <td>-1.0</td>\n",
              "      <td>0.00</td>\n",
              "      <td>-0.08</td>\n",
              "      <td>1.0</td>\n",
              "      <td>0.0</td>\n",
              "      <td>0.0</td>\n",
              "    </tr>\n",
              "    <tr>\n",
              "      <th>4</th>\n",
              "      <td>0.0</td>\n",
              "      <td>0.0</td>\n",
              "      <td>0.0</td>\n",
              "      <td>0.0</td>\n",
              "      <td>0.0</td>\n",
              "      <td>0.0</td>\n",
              "      <td>0.0</td>\n",
              "      <td>0.0</td>\n",
              "      <td>1.0</td>\n",
              "      <td>0.0</td>\n",
              "      <td>...</td>\n",
              "      <td>0.0</td>\n",
              "      <td>0.0</td>\n",
              "      <td>1.0</td>\n",
              "      <td>2.0</td>\n",
              "      <td>-2.0</td>\n",
              "      <td>3.25</td>\n",
              "      <td>0.80</td>\n",
              "      <td>0.0</td>\n",
              "      <td>0.0</td>\n",
              "      <td>0.0</td>\n",
              "    </tr>\n",
              "    <tr>\n",
              "      <th>...</th>\n",
              "      <td>...</td>\n",
              "      <td>...</td>\n",
              "      <td>...</td>\n",
              "      <td>...</td>\n",
              "      <td>...</td>\n",
              "      <td>...</td>\n",
              "      <td>...</td>\n",
              "      <td>...</td>\n",
              "      <td>...</td>\n",
              "      <td>...</td>\n",
              "      <td>...</td>\n",
              "      <td>...</td>\n",
              "      <td>...</td>\n",
              "      <td>...</td>\n",
              "      <td>...</td>\n",
              "      <td>...</td>\n",
              "      <td>...</td>\n",
              "      <td>...</td>\n",
              "      <td>...</td>\n",
              "      <td>...</td>\n",
              "      <td>...</td>\n",
              "    </tr>\n",
              "    <tr>\n",
              "      <th>43841</th>\n",
              "      <td>0.0</td>\n",
              "      <td>0.0</td>\n",
              "      <td>0.0</td>\n",
              "      <td>0.0</td>\n",
              "      <td>0.0</td>\n",
              "      <td>0.0</td>\n",
              "      <td>0.0</td>\n",
              "      <td>0.0</td>\n",
              "      <td>1.0</td>\n",
              "      <td>0.0</td>\n",
              "      <td>...</td>\n",
              "      <td>1.0</td>\n",
              "      <td>0.0</td>\n",
              "      <td>0.0</td>\n",
              "      <td>2.0</td>\n",
              "      <td>0.0</td>\n",
              "      <td>1.25</td>\n",
              "      <td>0.56</td>\n",
              "      <td>0.0</td>\n",
              "      <td>1.0</td>\n",
              "      <td>0.0</td>\n",
              "    </tr>\n",
              "    <tr>\n",
              "      <th>43842</th>\n",
              "      <td>0.0</td>\n",
              "      <td>0.0</td>\n",
              "      <td>0.0</td>\n",
              "      <td>0.0</td>\n",
              "      <td>0.0</td>\n",
              "      <td>0.0</td>\n",
              "      <td>0.0</td>\n",
              "      <td>0.0</td>\n",
              "      <td>1.0</td>\n",
              "      <td>0.0</td>\n",
              "      <td>...</td>\n",
              "      <td>0.0</td>\n",
              "      <td>0.0</td>\n",
              "      <td>1.0</td>\n",
              "      <td>3.0</td>\n",
              "      <td>2.0</td>\n",
              "      <td>-0.50</td>\n",
              "      <td>0.92</td>\n",
              "      <td>1.0</td>\n",
              "      <td>1.0</td>\n",
              "      <td>0.0</td>\n",
              "    </tr>\n",
              "    <tr>\n",
              "      <th>43843</th>\n",
              "      <td>0.0</td>\n",
              "      <td>0.0</td>\n",
              "      <td>0.0</td>\n",
              "      <td>0.0</td>\n",
              "      <td>0.0</td>\n",
              "      <td>0.0</td>\n",
              "      <td>0.0</td>\n",
              "      <td>1.0</td>\n",
              "      <td>0.0</td>\n",
              "      <td>1.0</td>\n",
              "      <td>...</td>\n",
              "      <td>0.0</td>\n",
              "      <td>0.0</td>\n",
              "      <td>1.0</td>\n",
              "      <td>2.0</td>\n",
              "      <td>-2.0</td>\n",
              "      <td>0.00</td>\n",
              "      <td>-0.44</td>\n",
              "      <td>0.0</td>\n",
              "      <td>1.0</td>\n",
              "      <td>0.0</td>\n",
              "    </tr>\n",
              "    <tr>\n",
              "      <th>43844</th>\n",
              "      <td>0.0</td>\n",
              "      <td>0.0</td>\n",
              "      <td>0.0</td>\n",
              "      <td>0.0</td>\n",
              "      <td>0.0</td>\n",
              "      <td>1.0</td>\n",
              "      <td>0.0</td>\n",
              "      <td>0.0</td>\n",
              "      <td>0.0</td>\n",
              "      <td>0.0</td>\n",
              "      <td>...</td>\n",
              "      <td>0.0</td>\n",
              "      <td>0.0</td>\n",
              "      <td>1.0</td>\n",
              "      <td>2.0</td>\n",
              "      <td>1.0</td>\n",
              "      <td>-0.25</td>\n",
              "      <td>0.32</td>\n",
              "      <td>0.0</td>\n",
              "      <td>0.0</td>\n",
              "      <td>0.0</td>\n",
              "    </tr>\n",
              "    <tr>\n",
              "      <th>43845</th>\n",
              "      <td>0.0</td>\n",
              "      <td>0.0</td>\n",
              "      <td>0.0</td>\n",
              "      <td>0.0</td>\n",
              "      <td>0.0</td>\n",
              "      <td>0.0</td>\n",
              "      <td>0.0</td>\n",
              "      <td>1.0</td>\n",
              "      <td>0.0</td>\n",
              "      <td>0.0</td>\n",
              "      <td>...</td>\n",
              "      <td>0.0</td>\n",
              "      <td>0.0</td>\n",
              "      <td>1.0</td>\n",
              "      <td>2.0</td>\n",
              "      <td>0.0</td>\n",
              "      <td>0.50</td>\n",
              "      <td>-0.56</td>\n",
              "      <td>1.0</td>\n",
              "      <td>1.0</td>\n",
              "      <td>1.0</td>\n",
              "    </tr>\n",
              "  </tbody>\n",
              "</table>\n",
              "<p>43846 rows × 21 columns</p>\n",
              "</div>"
            ],
            "text/plain": [
              "       x0_Analytics  x0_Finance  x0_HR  x0_Legal  x0_Operations  \\\n",
              "0               0.0         0.0    0.0       0.0            0.0   \n",
              "1               0.0         0.0    0.0       0.0            0.0   \n",
              "2               1.0         0.0    0.0       0.0            0.0   \n",
              "3               0.0         1.0    0.0       0.0            0.0   \n",
              "4               0.0         0.0    0.0       0.0            0.0   \n",
              "...             ...         ...    ...       ...            ...   \n",
              "43841           0.0         0.0    0.0       0.0            0.0   \n",
              "43842           0.0         0.0    0.0       0.0            0.0   \n",
              "43843           0.0         0.0    0.0       0.0            0.0   \n",
              "43844           0.0         0.0    0.0       0.0            0.0   \n",
              "43845           0.0         0.0    0.0       0.0            0.0   \n",
              "\n",
              "       x0_Procurement  x0_R&D  x0_Sales & Marketing  x0_Technology  \\\n",
              "0                 0.0     0.0                   1.0            0.0   \n",
              "1                 0.0     0.0                   0.0            1.0   \n",
              "2                 0.0     0.0                   0.0            0.0   \n",
              "3                 0.0     0.0                   0.0            0.0   \n",
              "4                 0.0     0.0                   0.0            1.0   \n",
              "...               ...     ...                   ...            ...   \n",
              "43841             0.0     0.0                   0.0            1.0   \n",
              "43842             0.0     0.0                   0.0            1.0   \n",
              "43843             0.0     0.0                   1.0            0.0   \n",
              "43844             1.0     0.0                   0.0            0.0   \n",
              "43845             0.0     0.0                   1.0            0.0   \n",
              "\n",
              "       pendidikan_scaled  ...  x1_m  x2_other  x2_referred  x2_sourcing  \\\n",
              "0                    0.0  ...   1.0       0.0          0.0          2.0   \n",
              "1                    0.0  ...   1.0       0.0          0.0          2.0   \n",
              "2                    0.0  ...   0.0       0.0          1.0          2.0   \n",
              "3                    0.0  ...   0.0       0.0          1.0          2.0   \n",
              "4                    0.0  ...   0.0       0.0          1.0          2.0   \n",
              "...                  ...  ...   ...       ...          ...          ...   \n",
              "43841                0.0  ...   1.0       0.0          0.0          2.0   \n",
              "43842                0.0  ...   0.0       0.0          1.0          3.0   \n",
              "43843                1.0  ...   0.0       0.0          1.0          2.0   \n",
              "43844                0.0  ...   0.0       0.0          1.0          2.0   \n",
              "43845                0.0  ...   0.0       0.0          1.0          2.0   \n",
              "\n",
              "       jumlah_training_scaled  rating_tahun_lalu_scaled  masa_kerja  KPI_>80%  \\\n",
              "0                         0.0                     -0.25       -0.40       0.0   \n",
              "1                        -1.0                      0.25        0.68       0.0   \n",
              "2                         2.0                     -0.50        0.88       1.0   \n",
              "3                        -1.0                      0.00       -0.08       1.0   \n",
              "4                        -2.0                      3.25        0.80       0.0   \n",
              "...                       ...                       ...         ...       ...   \n",
              "43841                     0.0                      1.25        0.56       0.0   \n",
              "43842                     2.0                     -0.50        0.92       1.0   \n",
              "43843                    -2.0                      0.00       -0.44       0.0   \n",
              "43844                     1.0                     -0.25        0.32       0.0   \n",
              "43845                     0.0                      0.50       -0.56       1.0   \n",
              "\n",
              "       penghargaan  rata_rata_skor_training_scaled  \n",
              "0              0.0                             0.0  \n",
              "1              0.0                             0.0  \n",
              "2              0.0                             0.0  \n",
              "3              0.0                             0.0  \n",
              "4              0.0                             0.0  \n",
              "...            ...                             ...  \n",
              "43841          1.0                             0.0  \n",
              "43842          1.0                             0.0  \n",
              "43843          1.0                             0.0  \n",
              "43844          0.0                             0.0  \n",
              "43845          1.0                             1.0  \n",
              "\n",
              "[43846 rows x 21 columns]"
            ]
          },
          "execution_count": 75,
          "metadata": {},
          "output_type": "execute_result"
        }
      ],
      "source": [
        "X_train_preprocessed.columns = features\n",
        "X_test_preprocessed.columns = features\n",
        "X_train_preprocessed"
      ]
    },
    {
      "cell_type": "markdown",
      "metadata": {
        "id": "MbfqcB_9BXWW"
      },
      "source": [
        "### 5. Handling Imbalanced Data"
      ]
    },
    {
      "cell_type": "code",
      "execution_count": null,
      "metadata": {
        "id": "PeguAoy4BXWb"
      },
      "outputs": [],
      "source": [
        "near = NearMiss()\n",
        "X_under, y_under = near.fit_resample(X_train_preprocessed, y_train_val)"
      ]
    },
    {
      "cell_type": "code",
      "execution_count": null,
      "metadata": {
        "id": "qnekhbriBXWc",
        "outputId": "ee5df7b7-3703-4861-a366-7953ba4a4bed"
      },
      "outputs": [
        {
          "data": {
            "text/plain": [
              "(7468, 21)"
            ]
          },
          "execution_count": 89,
          "metadata": {},
          "output_type": "execute_result"
        }
      ],
      "source": [
        "X_under.shape"
      ]
    },
    {
      "cell_type": "code",
      "execution_count": null,
      "metadata": {
        "id": "yy2Xz3WJBXWe"
      },
      "outputs": [],
      "source": [
        "smote = SMOTE()\n",
        "X_over, y_over = smote.fit_resample(X_train_preprocessed, y_train_val)"
      ]
    },
    {
      "cell_type": "code",
      "execution_count": null,
      "metadata": {
        "id": "R5YtuqS3BXWf",
        "outputId": "dde66d9d-13eb-45b8-a51b-e82bbec39c13"
      },
      "outputs": [
        {
          "data": {
            "text/plain": [
              "(80224, 21)"
            ]
          },
          "execution_count": 90,
          "metadata": {},
          "output_type": "execute_result"
        }
      ],
      "source": [
        "X_over.shape"
      ]
    },
    {
      "cell_type": "markdown",
      "metadata": {
        "id": "IEtga9mRBXWg"
      },
      "source": [
        "## Modeling\n",
        "\n",
        "--------------------"
      ]
    },
    {
      "cell_type": "code",
      "execution_count": null,
      "metadata": {
        "id": "DNrO12q0BXWi"
      },
      "outputs": [],
      "source": [
        "X_train_under, X_val_under, y_train_under, y_val_under = train_test_split(\n",
        "    X_under,\n",
        "    y_under,\n",
        "    stratify = y_under,\n",
        "    test_size = 0.25,\n",
        "    random_state = 2021)"
      ]
    },
    {
      "cell_type": "code",
      "execution_count": null,
      "metadata": {
        "id": "uXa2UzKlBXWj"
      },
      "outputs": [],
      "source": [
        "X_train_over, X_val_over, y_train_over, y_val_over = train_test_split(\n",
        "    X_over,\n",
        "    y_over,\n",
        "    stratify = y_over,\n",
        "    test_size = 0.25,\n",
        "    random_state = 2021)"
      ]
    },
    {
      "cell_type": "code",
      "execution_count": null,
      "metadata": {
        "id": "MPHvGtHiBXWl"
      },
      "outputs": [],
      "source": [
        "from catboost import CatBoostClassifier"
      ]
    },
    {
      "cell_type": "code",
      "execution_count": null,
      "metadata": {
        "id": "jCy932BmBXWn"
      },
      "outputs": [],
      "source": [
        "lr = LogisticRegression()\n",
        "dt = DecisionTreeClassifier(max_depth = 5)\n",
        "knn = KNeighborsClassifier(n_neighbors = 3)\n",
        "ada = AdaBoostClassifier(base_estimator=dt, n_estimators=100)\n",
        "rf = RandomForestClassifier(n_estimators = 50, max_features = 4, max_depth = 3)\n",
        "cb = CatBoostClassifier(iterations=2,\n",
        "                           depth=2,\n",
        "                           learning_rate=1,\n",
        "                           loss_function='Logloss',\n",
        "                           verbose=True)"
      ]
    },
    {
      "cell_type": "markdown",
      "metadata": {
        "id": "hAbJh-cnBXWo"
      },
      "source": [
        "1.1 Baseline Model untuk Undersampling"
      ]
    },
    {
      "cell_type": "code",
      "execution_count": null,
      "metadata": {
        "id": "iUj8y-IhBXWo"
      },
      "outputs": [],
      "source": [
        "from sklearn.metrics import plot_roc_curve, plot_precision_recall_curve, classification_report, f1_score,recall_score"
      ]
    },
    {
      "cell_type": "code",
      "execution_count": null,
      "metadata": {
        "id": "7j944_FvBXWr"
      },
      "outputs": [],
      "source": [
        "import warnings\n",
        "\n",
        "warnings.filterwarnings('ignore')\n",
        "pd.set_option('display.max_columns', None)"
      ]
    },
    {
      "cell_type": "code",
      "execution_count": null,
      "metadata": {
        "id": "mMdHvxU3BXWu",
        "outputId": "bdf70dce-b31d-46ad-ed21-64cc86587874"
      },
      "outputs": [
        {
          "name": "stdout",
          "output_type": "stream",
          "text": [
            "Decision Tree:\n",
            "Recall :  0.5541264737406216\n",
            "ROC - AUC 0.7583266201679554\n",
            "Random Forest:\n",
            "Recall :  0.6784565916398714\n",
            "ROC - AUC 0.7953310795458458\n",
            "AdaBoost:\n",
            "Recall :  0.7341907824222936\n",
            "ROC - AUC 0.7793009586629669\n",
            "LogisticRegression:\n",
            "Recall :  0.7277599142550911\n",
            "ROC - AUC 0.7926808136585948\n",
            "KNeighborsClassifier:\n",
            "Recall :  0.6806002143622722\n",
            "ROC - AUC 0.7610709851254616\n",
            "0:\tlearn: 0.6253632\ttotal: 41.8ms\tremaining: 41.8ms\n",
            "1:\tlearn: 0.5679052\ttotal: 44.5ms\tremaining: 0us\n",
            "CatBoostClassifier:\n",
            "Recall :  0.6741693461950696\n",
            "ROC - AUC 0.718240990014023\n"
          ]
        },
        {
          "data": {
            "text/plain": [
              "<matplotlib.legend.Legend at 0x1974d8e5f10>"
            ]
          },
          "execution_count": 145,
          "metadata": {},
          "output_type": "execute_result"
        },
        {
          "data": {
            "image/png": "[encoded data removed]",
            "text/plain": [
              "<Figure size 720x720 with 1 Axes>"
            ]
          },
          "metadata": {
            "needs_background": "light"
          },
          "output_type": "display_data"
        }
      ],
      "source": [
        "plt.figure(figsize= (10,10)).clf()\n",
        "\n",
        "for clfs, clf_name in zip([dt,rf,ada, lr, knn, cb],['Decision Tree','Random Forest','AdaBoost', 'LogisticRegression', 'KNeighborsClassifier', 'CatBoostClassifier']):\n",
        "  clfs.fit(X_train_under, y_train_under)\n",
        "  y_pred = clfs.predict(X_val_under)\n",
        "  fpr, tpr, thresh = metrics.roc_curve(y_val_under,y_pred)\n",
        "  auc = metrics.roc_auc_score(y_val_under,y_pred)\n",
        "  print(clf_name+\":\")\n",
        "  print('Recall : ', recall_score(y_val_under,y_pred))\n",
        "  print('ROC - AUC', auc)\n",
        "  plt.plot(fpr,tpr,label= clf_name +\" auc=\"+str(auc))\n",
        "\n",
        "plt.legend(loc=0)"
      ]
    },
    {
      "cell_type": "markdown",
      "metadata": {
        "id": "NdF1ydgkBXWv"
      },
      "source": [
        "1.2 Baseline Model untuk Oversampling"
      ]
    },
    {
      "cell_type": "code",
      "execution_count": null,
      "metadata": {
        "id": "ehfzdyZsBXWx",
        "outputId": "a5b14baa-1e97-4a94-be20-9f25e08ab832"
      },
      "outputs": [
        {
          "name": "stdout",
          "output_type": "stream",
          "text": [
            "Decision Tree:\n",
            "Recall :  0.919625049860391\n",
            "ROC - AUC 0.797965696051057\n",
            "Random Forest:\n",
            "Recall :  0.854507379337854\n",
            "ROC - AUC 0.7706920622257678\n",
            "AdaBoost:\n",
            "Recall :  0.9312923813322697\n",
            "ROC - AUC 0.9530315117670523\n",
            "LogisticRegression:\n",
            "Recall :  0.8363581970482649\n",
            "ROC - AUC 0.7968687674511369\n",
            "KNeighborsClassifier:\n",
            "Recall :  0.9240127642600718\n",
            "ROC - AUC 0.9034204228161149\n",
            "0:\tlearn: 0.5416810\ttotal: 61.1ms\tremaining: 61.1ms\n",
            "1:\tlearn: 0.5088033\ttotal: 68.2ms\tremaining: 0us\n",
            "CatBoostClassifier:\n",
            "Recall :  0.8125249301954527\n",
            "ROC - AUC 0.7426206621459912\n"
          ]
        },
        {
          "data": {
            "text/plain": [
              "<matplotlib.legend.Legend at 0x1974a441370>"
            ]
          },
          "execution_count": 146,
          "metadata": {},
          "output_type": "execute_result"
        },
        {
          "data": {
            "image/png": "[encoded data removed]",
            "text/plain": [
              "<Figure size 720x720 with 1 Axes>"
            ]
          },
          "metadata": {
            "needs_background": "light"
          },
          "output_type": "display_data"
        }
      ],
      "source": [
        "plt.figure(figsize= (10,10)).clf()\n",
        "\n",
        "for clfs, clf_name in zip([dt,rf,ada, lr, knn, cb],['Decision Tree','Random Forest','AdaBoost', 'LogisticRegression', 'KNeighborsClassifier', 'CatBoostClassifier']):\n",
        "  clfs.fit(X_train_over, y_train_over)\n",
        "  y_pred = clfs.predict(X_val_over)\n",
        "  fpr, tpr, thresh = metrics.roc_curve(y_val_over,y_pred)\n",
        "  auc = metrics.roc_auc_score(y_val_over,y_pred)\n",
        "  print(clf_name+\":\")\n",
        "  print('Recall : ', recall_score(y_val_over,y_pred))\n",
        "  print('ROC - AUC', auc)\n",
        "  plt.plot(fpr,tpr,label= clf_name +\" auc=\"+str(auc))\n",
        "\n",
        "plt.legend(loc=0)"
      ]
    },
    {
      "cell_type": "markdown",
      "metadata": {
        "id": "3SxX64KgBXWy"
      },
      "source": [
        "The F-Statistic test assesses if independent variables impact the performance of all single classifiers, with ```oversampling```  showing better results compared to ```undersampling```. This could be because ```undersampling``` leads to loss of crucial information. Therefore, ```oversampling``` data will be used for future scenarios."
      ]
    },
    {
      "cell_type": "code",
      "execution_count": null,
      "metadata": {
        "id": "N5s2ZdVmBXW3"
      },
      "outputs": [],
      "source": [
        "vc = VotingClassifier([('clf1',lr),('clf2',dt),('clf3',knn), ('clf4',ada),('clf5',rf),('clf6',cb)], voting = 'soft')"
      ]
    },
    {
      "cell_type": "code",
      "execution_count": null,
      "metadata": {
        "id": "XMOwcteXBXW6",
        "outputId": "2bf80d6e-a078-4d0b-b4d5-08e3e401f8ee"
      },
      "outputs": [
        {
          "name": "stdout",
          "output_type": "stream",
          "text": [
            "0:\tlearn: 0.5416810\ttotal: 25.9ms\tremaining: 25.9ms\n",
            "1:\tlearn: 0.5088033\ttotal: 39.1ms\tremaining: 0us\n"
          ]
        },
        {
          "data": {
            "text/plain": [
              "VotingClassifier(estimators=[('clf1', LogisticRegression()),\n",
              "                             ('clf2', DecisionTreeClassifier(max_depth=5)),\n",
              "                             ('clf3', KNeighborsClassifier(n_neighbors=3)),\n",
              "                             ('clf4',\n",
              "                              AdaBoostClassifier(base_estimator=DecisionTreeClassifier(max_depth=5),\n",
              "                                                 n_estimators=100)),\n",
              "                             ('clf5',\n",
              "                              RandomForestClassifier(max_depth=3,\n",
              "                                                     max_features=4,\n",
              "                                                     n_estimators=50)),\n",
              "                             ('clf6',\n",
              "                              <catboost.core.CatBoostClassifier object at 0x000001974754D220>)],\n",
              "                 voting='soft')"
            ]
          },
          "execution_count": 131,
          "metadata": {},
          "output_type": "execute_result"
        }
      ],
      "source": [
        "vc.fit(X_train_over, y_train_over)"
      ]
    },
    {
      "cell_type": "code",
      "execution_count": null,
      "metadata": {
        "id": "JH2Uap3wBXW7"
      },
      "outputs": [],
      "source": [
        "y_pred = vc.predict(X_val_over)"
      ]
    },
    {
      "cell_type": "code",
      "execution_count": null,
      "metadata": {
        "id": "TKyDPYtUBXW8",
        "outputId": "d714719c-8d3d-4c45-b6fc-102b47379914"
      },
      "outputs": [
        {
          "name": "stdout",
          "output_type": "stream",
          "text": [
            "              precision    recall  f1-score   support\n",
            "\n",
            "           0       0.97      0.77      0.86     10028\n",
            "           1       0.81      0.97      0.88     10028\n",
            "\n",
            "    accuracy                           0.87     20056\n",
            "   macro avg       0.89      0.87      0.87     20056\n",
            "weighted avg       0.89      0.87      0.87     20056\n",
            "\n"
          ]
        }
      ],
      "source": [
        "print(classification_report(y_val_over,y_pred))"
      ]
    },
    {
      "cell_type": "code",
      "execution_count": null,
      "metadata": {
        "id": "_MEpckWWBXW-",
        "outputId": "53aeebdc-3624-4b09-8be1-371fde66934f"
      },
      "outputs": [
        {
          "data": {
            "text/plain": [
              "<matplotlib.legend.Legend at 0x1974931f070>"
            ]
          },
          "execution_count": 135,
          "metadata": {},
          "output_type": "execute_result"
        },
        {
          "data": {
            "image/png": "[encoded data removed]",
            "text/plain": [
              "<Figure size 432x288 with 1 Axes>"
            ]
          },
          "metadata": {
            "needs_background": "light"
          },
          "output_type": "display_data"
        }
      ],
      "source": [
        "plt.figure(0).clf()\n",
        "fpr, tpr, thresh = metrics.roc_curve(y_val_over, y_pred)\n",
        "auc = metrics.roc_auc_score(y_val_over, y_pred)\n",
        "plt.plot(fpr,tpr,label=\"VotingClassifier, auc=\"+str(auc))\n",
        "plt.legend(loc=0)"
      ]
    },
    {
      "cell_type": "markdown",
      "metadata": {
        "id": "eZmlBIDWBXXA"
      },
      "source": [
        "## Testing"
      ]
    },
    {
      "cell_type": "code",
      "execution_count": null,
      "metadata": {
        "id": "XSdxjIe1BXXB"
      },
      "outputs": [],
      "source": [
        "y_pred = vc.predict(X_test_preprocessed)"
      ]
    },
    {
      "cell_type": "code",
      "execution_count": null,
      "metadata": {
        "id": "4R6VmLh0BXXC",
        "outputId": "0980d8d5-e3ea-4878-bc3f-d86ba545ef2a"
      },
      "outputs": [
        {
          "name": "stdout",
          "output_type": "stream",
          "text": [
            "              precision    recall  f1-score   support\n",
            "\n",
            "           0       0.97      0.78      0.86     10028\n",
            "           1       0.24      0.78      0.37       934\n",
            "\n",
            "    accuracy                           0.78     10962\n",
            "   macro avg       0.61      0.78      0.62     10962\n",
            "weighted avg       0.91      0.78      0.82     10962\n",
            "\n"
          ]
        }
      ],
      "source": [
        "print(classification_report(y_test,y_pred))"
      ]
    },
    {
      "cell_type": "code",
      "execution_count": null,
      "metadata": {
        "id": "twgVosqLBXXD",
        "outputId": "023f7164-13ce-4620-fec3-43ed3d069891"
      },
      "outputs": [
        {
          "data": {
            "text/plain": [
              "0.7770502763568218"
            ]
          },
          "execution_count": 138,
          "metadata": {},
          "output_type": "execute_result"
        }
      ],
      "source": [
        "roc_auc_score(y_test,y_pred)"
      ]
    },
    {
      "cell_type": "code",
      "execution_count": null,
      "metadata": {
        "id": "rcQusGnhBXXE",
        "outputId": "43c27d37-8431-4e9e-ef11-8aa057d7987a"
      },
      "outputs": [
        {
          "data": {
            "text/plain": [
              "<matplotlib.legend.Legend at 0x1974938bbb0>"
            ]
          },
          "execution_count": 141,
          "metadata": {},
          "output_type": "execute_result"
        },
        {
          "data": {
            "image/png": "[encoded data removed]",
            "text/plain": [
              "<Figure size 432x288 with 1 Axes>"
            ]
          },
          "metadata": {
            "needs_background": "light"
          },
          "output_type": "display_data"
        }
      ],
      "source": [
        "plt.figure(0).clf()\n",
        "fpr, tpr, thresh = metrics.roc_curve(y_test, y_pred)\n",
        "auc = metrics.roc_auc_score(y_test, y_pred)\n",
        "plt.plot(fpr,tpr,label=\"VotingClassifier, auc=\"+str(auc))\n",
        "plt.legend(loc=0)"
      ]
    },
    {
      "cell_type": "markdown",
      "metadata": {
        "id": "n1X-syYbBXXG"
      },
      "source": [
        "## What is my advice for deploying and maintaining this model lifecycle?\n",
        "\n",
        "---------\n",
        "\n"
      ]
    },
    {
      "cell_type": "markdown",
      "metadata": {
        "id": "nHfqFafCBXXH"
      },
      "source": [
        "Deployment is an iterative process. Once we deploy a model, there will inevitably be changes in the future, whether in terms of data, specific phenomena, dynamic business requirements, or other factors. When deploying a machine learning model, continuous monitoring is essential. This monitoring can be categorized into various aspects: data versioning, dictionary versioning, feature versioning, algorithm versioning, transfer learning, and interpretation versioning."
      ]
    },
    {
      "cell_type": "markdown",
      "metadata": {
        "id": "Hv4GQM6GBXXI"
      },
      "source": [
        "### 1. Data Versioning\n",
        "\n",
        "The data will continue to grow over time, whether it be an increase in rows or columns. Initially, we had around 55,000 rows of data in this HR department dataset. The data then increased significantly to 80,000 rows. Column-wise changes are also possible. Changes in terms of rows and columns can mark the beginning of other discussed alterations.\n",
        "### 2. Dictionary Versioning\n",
        "\n",
        "Let's say at the moment we are in the process of developing a credit scoring model. Currently, we are working on a model to predict which employees will be promoted. We are highlighting several features., ```'departemen', 'pendidikan', 'jenis_kelamin', 'rekrutmen','jumlah_training', 'umur', 'rating_tahun_lalu', 'masa_kerja', 'KPI_>80%', 'penghargaan', 'rata_rata_skor_training', 'dipromosikan'```. Dapat kalian lihat dictionary dari variabel tersebut. Beberapa waktu kemudian ketika cek lagi dictionary-nya ternyata ada perubahan. Pada variabel ```pendidikan``` terdapat kategori baru yaitu post-doctoral. Begitu juga dengan variabel ```departemen```, there is a new department, namely the Data Department. This change undoubtedly has the potential to render the previously constructed machine learning models irrelevant.\n",
        "### 3. Feature Versioning\n",
        "\n",
        "We have already discussed the addition of columns to the data. This implies that the features we utilize for constructing a machine learning model may increase. The introduction of new features could also entail the incorporation of novel feature engineering. For instance, in previous model creation, certain variables were not present. ```income```. The variable ```income``` is now included and can be combined with ```average_training_score``` to create a new variable. Existing features may also become irrelevant over time due to different factors.\n",
        "\n",
        "### 4. Algorithm Versioning\n",
        "\n",
        "The alteration of the data has the potential to influence the outcomes of our previous work. For instance, here I have conducted training on our models: Random Forest Classifier, Decision Tree Classifier, AdaBoost Classifier, KNN, Logistic Regression, and CatBoostClassifier. The victorious model is AdaBoost with a recall of 93%. In the subsequent period, we retrain the models using updated data, and the winning model changes. The most superior model is now Logistic Regression with a recall of 95%.\n",
        "\n",
        "### 5. Interpretation Versioning\n",
        "\n",
        "Sustaining awareness of evolving data and trends is essential for optimizing insights derived from machine learning"
      ]
    }
  ],
  "metadata": {
    "interpreter": {
      "hash": "74eaa6774a169bec67c4dccb326766c2c8cf4f4e341bf5531e21465378b4a156"
    },
    "kernelspec": {
      "display_name": "Python 3.9.9 64-bit (windows store)",
      "name": "python3"
    },
    "language_info": {
      "codemirror_mode": {
        "name": "ipython",
        "version": 3
      },
      "file_extension": ".py",
      "mimetype": "text/x-python",
      "name": "python",
      "nbconvert_exporter": "python",
      "pygments_lexer": "ipython3",
      "version": "3.9.9"
    },
    "orig_nbformat": 4,
    "colab": {
      "provenance": []
    }
  },
  "nbformat": 4,
  "nbformat_minor": 0
}